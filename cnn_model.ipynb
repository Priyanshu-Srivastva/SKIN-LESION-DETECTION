{
  "cells": [
    {
      "cell_type": "markdown",
      "id": "ceef15c0",
      "metadata": {
        "id": "ceef15c0",
        "papermill": {
          "duration": 0.00594,
          "end_time": "2023-10-02T08:01:17.899552",
          "exception": false,
          "start_time": "2023-10-02T08:01:17.893612",
          "status": "completed"
        },
        "tags": []
      },
      "source": [
        "This the HAM10000 (\"Human Against Machine with 10000 training images\") dataset.It consists of 10015 dermatoscopicimages which are released as a training set for academic machine learning purposes and are publiclyavailable through the ISIC archive. This benchmark dataset can be used for machine learning and for comparisons with human experts.\n",
        "\n",
        "It has 7 different classes of skin cancer which are listed below :\n",
        "1. Melanocytic nevi\n",
        "2. Melanoma\n",
        "3. Benign keratosis-like lesions\n",
        "4. Basal cell carcinoma\n",
        "5. Actinic keratoses\n",
        "6. Vascular lesions\n",
        "7. Dermatofibroma\n",
        "\n",
        "Here I will try to detect 7 different classes of skin cancer using Convolution Neural Network with keras tensorflow in backend and then analyse the result to see how the model can be useful in practical scenario.\n",
        "We will move step by step process to classify 7 classes of cancer.\n",
        "\n",
        "In this kernel I have followed following 14 steps for model building and evaluation which are as follows :\n",
        "\n",
        "Step 1: Importing Essential Libraries\n",
        "\n",
        "Step 2: Loading data and Making labels\n",
        "\n",
        "Step 3: Train Test Split\n",
        "\n",
        "Step 4: Exploratory data analysis (EDA)\n",
        "\n",
        "Step 5: Model Building (CNN)\n",
        "\n",
        "Step 6: Setting Optimizer & Annealing\n",
        "\n",
        "Step 7: Fitting the model\n",
        "\n",
        "Step 8: Model Evaluation"
      ]
    },
    {
      "cell_type": "markdown",
      "id": "6ca460e2",
      "metadata": {
        "id": "6ca460e2",
        "papermill": {
          "duration": 0.005122,
          "end_time": "2023-10-02T08:01:17.910222",
          "exception": false,
          "start_time": "2023-10-02T08:01:17.905100",
          "status": "completed"
        },
        "tags": []
      },
      "source": [
        "# Step 1: Importing Essential Libraries"
      ]
    },
    {
      "cell_type": "code",
      "execution_count": null,
      "id": "6ed940ab",
      "metadata": {
        "execution": {
          "iopub.execute_input": "2023-10-02T08:01:17.922511Z",
          "iopub.status.busy": "2023-10-02T08:01:17.922208Z",
          "iopub.status.idle": "2023-10-02T08:01:18.589793Z",
          "shell.execute_reply": "2023-10-02T08:01:18.588885Z"
        },
        "id": "6ed940ab",
        "papermill": {
          "duration": 0.676274,
          "end_time": "2023-10-02T08:01:18.591801",
          "exception": false,
          "start_time": "2023-10-02T08:01:17.915527",
          "status": "completed"
        },
        "tags": []
      },
      "outputs": [],
      "source": [
        "import pandas as pd\n",
        "import numpy as np\n",
        "import warnings\n",
        "warnings.filterwarnings('ignore')"
      ]
    },
    {
      "cell_type": "markdown",
      "id": "c0a6e049",
      "metadata": {
        "id": "c0a6e049",
        "papermill": {
          "duration": 0.005454,
          "end_time": "2023-10-02T08:01:19.730160",
          "exception": false,
          "start_time": "2023-10-02T08:01:19.724706",
          "status": "completed"
        },
        "tags": []
      },
      "source": [
        "# Step 2: Loading data and Making labels"
      ]
    },
    {
      "cell_type": "code",
      "execution_count": null,
      "id": "708d26b1",
      "metadata": {
        "execution": {
          "iopub.execute_input": "2023-10-02T08:01:20.704925Z",
          "iopub.status.busy": "2023-10-02T08:01:20.704504Z",
          "iopub.status.idle": "2023-10-02T08:01:20.708852Z",
          "shell.execute_reply": "2023-10-02T08:01:20.707915Z"
        },
        "id": "708d26b1",
        "papermill": {
          "duration": 0.012903,
          "end_time": "2023-10-02T08:01:20.710517",
          "exception": false,
          "start_time": "2023-10-02T08:01:20.697614",
          "status": "completed"
        },
        "tags": []
      },
      "outputs": [],
      "source": [
        "path='/content/drive/MyDrive/hmnist_28_28_RGB.csv'"
      ]
    },
    {
      "cell_type": "code",
      "source": [
        "from google.colab import drive\n",
        "drive.mount('/content/drive')"
      ],
      "metadata": {
        "colab": {
          "base_uri": "https://localhost:8080/"
        },
        "id": "T3OK6EW7Omc2",
        "outputId": "5dbd1d63-9849-4b24-e077-362b7641e208"
      },
      "id": "T3OK6EW7Omc2",
      "execution_count": null,
      "outputs": [
        {
          "output_type": "stream",
          "name": "stdout",
          "text": [
            "Mounted at /content/drive\n"
          ]
        }
      ]
    },
    {
      "cell_type": "code",
      "execution_count": null,
      "id": "6e1b3e64",
      "metadata": {
        "execution": {
          "iopub.execute_input": "2023-10-02T08:01:20.723100Z",
          "iopub.status.busy": "2023-10-02T08:01:20.722315Z",
          "iopub.status.idle": "2023-10-02T08:01:23.981764Z",
          "shell.execute_reply": "2023-10-02T08:01:23.980790Z"
        },
        "id": "6e1b3e64",
        "papermill": {
          "duration": 3.267885,
          "end_time": "2023-10-02T08:01:23.983939",
          "exception": false,
          "start_time": "2023-10-02T08:01:20.716054",
          "status": "completed"
        },
        "tags": []
      },
      "outputs": [],
      "source": [
        "df=pd.read_csv(path)"
      ]
    },
    {
      "cell_type": "code",
      "execution_count": null,
      "id": "7d82f8e8",
      "metadata": {
        "execution": {
          "iopub.execute_input": "2023-10-02T08:01:23.996656Z",
          "iopub.status.busy": "2023-10-02T08:01:23.996393Z",
          "iopub.status.idle": "2023-10-02T08:01:24.018753Z",
          "shell.execute_reply": "2023-10-02T08:01:24.017808Z"
        },
        "id": "7d82f8e8",
        "outputId": "7ff89a09-b252-4e2b-82e9-282b328bc92e",
        "papermill": {
          "duration": 0.030698,
          "end_time": "2023-10-02T08:01:24.020451",
          "exception": false,
          "start_time": "2023-10-02T08:01:23.989753",
          "status": "completed"
        },
        "tags": []
      },
      "outputs": [
        {
          "data": {
            "text/html": [
              "<div>\n",
              "<style scoped>\n",
              "    .dataframe tbody tr th:only-of-type {\n",
              "        vertical-align: middle;\n",
              "    }\n",
              "\n",
              "    .dataframe tbody tr th {\n",
              "        vertical-align: top;\n",
              "    }\n",
              "\n",
              "    .dataframe thead th {\n",
              "        text-align: right;\n",
              "    }\n",
              "</style>\n",
              "<table border=\"1\" class=\"dataframe\">\n",
              "  <thead>\n",
              "    <tr style=\"text-align: right;\">\n",
              "      <th></th>\n",
              "      <th>pixel0000</th>\n",
              "      <th>pixel0001</th>\n",
              "      <th>pixel0002</th>\n",
              "      <th>pixel0003</th>\n",
              "      <th>pixel0004</th>\n",
              "      <th>pixel0005</th>\n",
              "      <th>pixel0006</th>\n",
              "      <th>pixel0007</th>\n",
              "      <th>pixel0008</th>\n",
              "      <th>pixel0009</th>\n",
              "      <th>...</th>\n",
              "      <th>pixel2343</th>\n",
              "      <th>pixel2344</th>\n",
              "      <th>pixel2345</th>\n",
              "      <th>pixel2346</th>\n",
              "      <th>pixel2347</th>\n",
              "      <th>pixel2348</th>\n",
              "      <th>pixel2349</th>\n",
              "      <th>pixel2350</th>\n",
              "      <th>pixel2351</th>\n",
              "      <th>label</th>\n",
              "    </tr>\n",
              "  </thead>\n",
              "  <tbody>\n",
              "    <tr>\n",
              "      <th>10010</th>\n",
              "      <td>183</td>\n",
              "      <td>165</td>\n",
              "      <td>181</td>\n",
              "      <td>182</td>\n",
              "      <td>165</td>\n",
              "      <td>180</td>\n",
              "      <td>184</td>\n",
              "      <td>166</td>\n",
              "      <td>182</td>\n",
              "      <td>188</td>\n",
              "      <td>...</td>\n",
              "      <td>208</td>\n",
              "      <td>185</td>\n",
              "      <td>187</td>\n",
              "      <td>208</td>\n",
              "      <td>186</td>\n",
              "      <td>186</td>\n",
              "      <td>206</td>\n",
              "      <td>187</td>\n",
              "      <td>189</td>\n",
              "      <td>0</td>\n",
              "    </tr>\n",
              "    <tr>\n",
              "      <th>10011</th>\n",
              "      <td>2</td>\n",
              "      <td>3</td>\n",
              "      <td>1</td>\n",
              "      <td>38</td>\n",
              "      <td>33</td>\n",
              "      <td>32</td>\n",
              "      <td>121</td>\n",
              "      <td>104</td>\n",
              "      <td>103</td>\n",
              "      <td>132</td>\n",
              "      <td>...</td>\n",
              "      <td>96</td>\n",
              "      <td>79</td>\n",
              "      <td>76</td>\n",
              "      <td>24</td>\n",
              "      <td>23</td>\n",
              "      <td>21</td>\n",
              "      <td>3</td>\n",
              "      <td>4</td>\n",
              "      <td>1</td>\n",
              "      <td>0</td>\n",
              "    </tr>\n",
              "    <tr>\n",
              "      <th>10012</th>\n",
              "      <td>132</td>\n",
              "      <td>118</td>\n",
              "      <td>118</td>\n",
              "      <td>167</td>\n",
              "      <td>149</td>\n",
              "      <td>149</td>\n",
              "      <td>175</td>\n",
              "      <td>156</td>\n",
              "      <td>160</td>\n",
              "      <td>184</td>\n",
              "      <td>...</td>\n",
              "      <td>204</td>\n",
              "      <td>181</td>\n",
              "      <td>178</td>\n",
              "      <td>181</td>\n",
              "      <td>159</td>\n",
              "      <td>153</td>\n",
              "      <td>172</td>\n",
              "      <td>151</td>\n",
              "      <td>145</td>\n",
              "      <td>0</td>\n",
              "    </tr>\n",
              "    <tr>\n",
              "      <th>10013</th>\n",
              "      <td>160</td>\n",
              "      <td>124</td>\n",
              "      <td>146</td>\n",
              "      <td>164</td>\n",
              "      <td>131</td>\n",
              "      <td>152</td>\n",
              "      <td>167</td>\n",
              "      <td>127</td>\n",
              "      <td>146</td>\n",
              "      <td>169</td>\n",
              "      <td>...</td>\n",
              "      <td>185</td>\n",
              "      <td>162</td>\n",
              "      <td>167</td>\n",
              "      <td>184</td>\n",
              "      <td>157</td>\n",
              "      <td>166</td>\n",
              "      <td>185</td>\n",
              "      <td>162</td>\n",
              "      <td>172</td>\n",
              "      <td>0</td>\n",
              "    </tr>\n",
              "    <tr>\n",
              "      <th>10014</th>\n",
              "      <td>175</td>\n",
              "      <td>142</td>\n",
              "      <td>121</td>\n",
              "      <td>181</td>\n",
              "      <td>150</td>\n",
              "      <td>134</td>\n",
              "      <td>181</td>\n",
              "      <td>150</td>\n",
              "      <td>133</td>\n",
              "      <td>178</td>\n",
              "      <td>...</td>\n",
              "      <td>159</td>\n",
              "      <td>79</td>\n",
              "      <td>82</td>\n",
              "      <td>174</td>\n",
              "      <td>137</td>\n",
              "      <td>125</td>\n",
              "      <td>175</td>\n",
              "      <td>139</td>\n",
              "      <td>126</td>\n",
              "      <td>6</td>\n",
              "    </tr>\n",
              "  </tbody>\n",
              "</table>\n",
              "<p>5 rows × 2353 columns</p>\n",
              "</div>"
            ],
            "text/plain": [
              "       pixel0000  pixel0001  pixel0002  pixel0003  pixel0004  pixel0005  \\\n",
              "10010        183        165        181        182        165        180   \n",
              "10011          2          3          1         38         33         32   \n",
              "10012        132        118        118        167        149        149   \n",
              "10013        160        124        146        164        131        152   \n",
              "10014        175        142        121        181        150        134   \n",
              "\n",
              "       pixel0006  pixel0007  pixel0008  pixel0009  ...  pixel2343  pixel2344  \\\n",
              "10010        184        166        182        188  ...        208        185   \n",
              "10011        121        104        103        132  ...         96         79   \n",
              "10012        175        156        160        184  ...        204        181   \n",
              "10013        167        127        146        169  ...        185        162   \n",
              "10014        181        150        133        178  ...        159         79   \n",
              "\n",
              "       pixel2345  pixel2346  pixel2347  pixel2348  pixel2349  pixel2350  \\\n",
              "10010        187        208        186        186        206        187   \n",
              "10011         76         24         23         21          3          4   \n",
              "10012        178        181        159        153        172        151   \n",
              "10013        167        184        157        166        185        162   \n",
              "10014         82        174        137        125        175        139   \n",
              "\n",
              "       pixel2351  label  \n",
              "10010        189      0  \n",
              "10011          1      0  \n",
              "10012        145      0  \n",
              "10013        172      0  \n",
              "10014        126      6  \n",
              "\n",
              "[5 rows x 2353 columns]"
            ]
          },
          "execution_count": 6,
          "metadata": {},
          "output_type": "execute_result"
        }
      ],
      "source": [
        "df.tail()"
      ]
    },
    {
      "cell_type": "markdown",
      "id": "795f3834",
      "metadata": {
        "id": "795f3834",
        "papermill": {
          "duration": 0.005641,
          "end_time": "2023-10-02T08:01:24.032164",
          "exception": false,
          "start_time": "2023-10-02T08:01:24.026523",
          "status": "completed"
        },
        "tags": []
      },
      "source": [
        "# Step 3: Train Test Split"
      ]
    },
    {
      "cell_type": "code",
      "execution_count": null,
      "id": "c387748a",
      "metadata": {
        "execution": {
          "iopub.execute_input": "2023-10-02T08:01:24.045382Z",
          "iopub.status.busy": "2023-10-02T08:01:24.044831Z",
          "iopub.status.idle": "2023-10-02T08:01:24.273163Z",
          "shell.execute_reply": "2023-10-02T08:01:24.272131Z"
        },
        "id": "c387748a",
        "papermill": {
          "duration": 0.237385,
          "end_time": "2023-10-02T08:01:24.275377",
          "exception": false,
          "start_time": "2023-10-02T08:01:24.037992",
          "status": "completed"
        },
        "tags": []
      },
      "outputs": [],
      "source": [
        "fractions=np.array([0.8,0.2])\n",
        "df=df.sample(frac=1)\n",
        "train_set, test_set = np.array_split(\n",
        "    df, (fractions[:-1].cumsum() * len(df)).astype(int))"
      ]
    },
    {
      "cell_type": "code",
      "execution_count": null,
      "id": "7c50596c",
      "metadata": {
        "execution": {
          "iopub.execute_input": "2023-10-02T08:01:24.289338Z",
          "iopub.status.busy": "2023-10-02T08:01:24.289025Z",
          "iopub.status.idle": "2023-10-02T08:01:24.293640Z",
          "shell.execute_reply": "2023-10-02T08:01:24.292746Z"
        },
        "id": "7c50596c",
        "outputId": "25b4b741-3a45-4b5d-e6bc-1cf3cf8160e7",
        "papermill": {
          "duration": 0.014056,
          "end_time": "2023-10-02T08:01:24.295810",
          "exception": false,
          "start_time": "2023-10-02T08:01:24.281754",
          "status": "completed"
        },
        "tags": []
      },
      "outputs": [
        {
          "name": "stdout",
          "output_type": "stream",
          "text": [
            "8012\n"
          ]
        }
      ],
      "source": [
        "print(len(train_set))"
      ]
    },
    {
      "cell_type": "code",
      "execution_count": null,
      "id": "c3cc111d",
      "metadata": {
        "execution": {
          "iopub.execute_input": "2023-10-02T08:01:24.308735Z",
          "iopub.status.busy": "2023-10-02T08:01:24.308498Z",
          "iopub.status.idle": "2023-10-02T08:01:24.312749Z",
          "shell.execute_reply": "2023-10-02T08:01:24.311939Z"
        },
        "id": "c3cc111d",
        "outputId": "1b7132af-cb98-46c0-d98b-931a3b400992",
        "papermill": {
          "duration": 0.012958,
          "end_time": "2023-10-02T08:01:24.314679",
          "exception": false,
          "start_time": "2023-10-02T08:01:24.301721",
          "status": "completed"
        },
        "tags": []
      },
      "outputs": [
        {
          "name": "stdout",
          "output_type": "stream",
          "text": [
            "2003\n"
          ]
        }
      ],
      "source": [
        "print(len(test_set))"
      ]
    },
    {
      "cell_type": "code",
      "execution_count": null,
      "id": "d040744c",
      "metadata": {
        "execution": {
          "iopub.execute_input": "2023-10-02T08:01:24.328336Z",
          "iopub.status.busy": "2023-10-02T08:01:24.327635Z",
          "iopub.status.idle": "2023-10-02T08:01:24.337087Z",
          "shell.execute_reply": "2023-10-02T08:01:24.336139Z"
        },
        "id": "d040744c",
        "outputId": "5f767c17-fcb5-4507-bf28-4e7142199f17",
        "papermill": {
          "duration": 0.018279,
          "end_time": "2023-10-02T08:01:24.339010",
          "exception": false,
          "start_time": "2023-10-02T08:01:24.320731",
          "status": "completed"
        },
        "tags": []
      },
      "outputs": [
        {
          "data": {
            "text/plain": [
              "array([4, 6, 2, 5, 0, 1, 3])"
            ]
          },
          "execution_count": 10,
          "metadata": {},
          "output_type": "execute_result"
        }
      ],
      "source": [
        "df.label.unique()"
      ]
    },
    {
      "cell_type": "code",
      "execution_count": null,
      "id": "1b4449d4",
      "metadata": {
        "execution": {
          "iopub.execute_input": "2023-10-02T08:01:24.353133Z",
          "iopub.status.busy": "2023-10-02T08:01:24.352347Z",
          "iopub.status.idle": "2023-10-02T08:01:24.357012Z",
          "shell.execute_reply": "2023-10-02T08:01:24.356258Z"
        },
        "id": "1b4449d4",
        "papermill": {
          "duration": 0.013114,
          "end_time": "2023-10-02T08:01:24.358692",
          "exception": false,
          "start_time": "2023-10-02T08:01:24.345578",
          "status": "completed"
        },
        "tags": []
      },
      "outputs": [],
      "source": [
        "classes={0:('akiec', 'actinic keratoses and intraepithelial carcinomae'),\n",
        "         1:('bcc' , 'basal cell carcinoma'),\n",
        "         2:('bkl', 'benign keratosis-like lesions'),\n",
        "         3:('df', 'dermatofibroma'),\n",
        "         4:('nv', ' melanocytic nevi'),\n",
        "         5:('vasc', ' pyogenic granulomas and hemorrhage'),\n",
        "         6:('mel', 'melanoma'),}"
      ]
    },
    {
      "cell_type": "code",
      "execution_count": null,
      "id": "259ed883",
      "metadata": {
        "execution": {
          "iopub.execute_input": "2023-10-02T08:01:24.372054Z",
          "iopub.status.busy": "2023-10-02T08:01:24.371377Z",
          "iopub.status.idle": "2023-10-02T08:01:24.437795Z",
          "shell.execute_reply": "2023-10-02T08:01:24.436772Z"
        },
        "id": "259ed883",
        "papermill": {
          "duration": 0.075232,
          "end_time": "2023-10-02T08:01:24.440009",
          "exception": false,
          "start_time": "2023-10-02T08:01:24.364777",
          "status": "completed"
        },
        "tags": []
      },
      "outputs": [],
      "source": [
        "y_train=train_set['label']\n",
        "x_train=train_set.drop(columns=['label'])\n",
        "y_test=test_set['label']\n",
        "x_test=test_set.drop(columns=['label'])\n",
        "\n",
        "columns=list(x_train)"
      ]
    },
    {
      "cell_type": "code",
      "execution_count": null,
      "id": "d33dccda",
      "metadata": {
        "execution": {
          "iopub.execute_input": "2023-10-02T08:01:24.454129Z",
          "iopub.status.busy": "2023-10-02T08:01:24.453836Z",
          "iopub.status.idle": "2023-10-02T08:01:27.780099Z",
          "shell.execute_reply": "2023-10-02T08:01:27.779207Z"
        },
        "id": "d33dccda",
        "outputId": "ac6cb19a-71b6-4d8f-9604-07f40fcb44f2",
        "papermill": {
          "duration": 3.335942,
          "end_time": "2023-10-02T08:01:27.782670",
          "exception": false,
          "start_time": "2023-10-02T08:01:24.446728",
          "status": "completed"
        },
        "tags": []
      },
      "outputs": [
        {
          "name": "stdout",
          "output_type": "stream",
          "text": [
            "cuda:0\n"
          ]
        }
      ],
      "source": [
        "import torch\n",
        "device = torch.device(\"cuda:0\" if torch.cuda.is_available() else \"cpu\")\n",
        "print(device)"
      ]
    },
    {
      "cell_type": "markdown",
      "id": "152f33a9",
      "metadata": {
        "id": "152f33a9",
        "papermill": {
          "duration": 0.010931,
          "end_time": "2023-10-02T08:01:27.805221",
          "exception": false,
          "start_time": "2023-10-02T08:01:27.794290",
          "status": "completed"
        },
        "tags": []
      },
      "source": [
        "# Step 4: Exploratory Data Analysis and Preprocessing"
      ]
    },
    {
      "cell_type": "code",
      "execution_count": null,
      "id": "15ed43b9",
      "metadata": {
        "execution": {
          "iopub.execute_input": "2023-10-02T08:01:27.829167Z",
          "iopub.status.busy": "2023-10-02T08:01:27.828616Z",
          "iopub.status.idle": "2023-10-02T08:01:29.058300Z",
          "shell.execute_reply": "2023-10-02T08:01:29.057394Z"
        },
        "id": "15ed43b9",
        "outputId": "47ec5fce-192c-4201-cc3d-b5e6e22e7fd6",
        "papermill": {
          "duration": 1.244344,
          "end_time": "2023-10-02T08:01:29.060569",
          "exception": false,
          "start_time": "2023-10-02T08:01:27.816225",
          "status": "completed"
        },
        "tags": []
      },
      "outputs": [
        {
          "data": {
            "text/plain": [
              "<Axes: ylabel='count'>"
            ]
          },
          "execution_count": 14,
          "metadata": {},
          "output_type": "execute_result"
        },
        {
          "data": {
            "image/png": "[encoded data removed]",
            "text/plain": [
              "<Figure size 640x480 with 1 Axes>"
            ]
          },
          "metadata": {},
          "output_type": "display_data"
        }
      ],
      "source": [
        "import seaborn as sns\n",
        "\n",
        "sns.countplot(train_set['label'])"
      ]
    },
    {
      "cell_type": "code",
      "execution_count": null,
      "id": "fedff08f",
      "metadata": {
        "execution": {
          "iopub.execute_input": "2023-10-02T08:01:29.076243Z",
          "iopub.status.busy": "2023-10-02T08:01:29.075968Z",
          "iopub.status.idle": "2023-10-02T08:01:31.159275Z",
          "shell.execute_reply": "2023-10-02T08:01:31.158259Z"
        },
        "id": "fedff08f",
        "papermill": {
          "duration": 2.093479,
          "end_time": "2023-10-02T08:01:31.161372",
          "exception": false,
          "start_time": "2023-10-02T08:01:29.067893",
          "status": "completed"
        },
        "tags": []
      },
      "outputs": [],
      "source": [
        "from imblearn.over_sampling import RandomOverSampler\n",
        "oversample = RandomOverSampler()\n",
        "x_train,y_train  = oversample.fit_resample(x_train,y_train)"
      ]
    },
    {
      "cell_type": "code",
      "execution_count": null,
      "id": "490aabb4",
      "metadata": {
        "execution": {
          "iopub.execute_input": "2023-10-02T08:01:31.175744Z",
          "iopub.status.busy": "2023-10-02T08:01:31.175368Z",
          "iopub.status.idle": "2023-10-02T08:01:31.361925Z",
          "shell.execute_reply": "2023-10-02T08:01:31.361008Z"
        },
        "id": "490aabb4",
        "outputId": "08cac712-cbee-4ece-e2cd-ac2308ee5db6",
        "papermill": {
          "duration": 0.195658,
          "end_time": "2023-10-02T08:01:31.363660",
          "exception": false,
          "start_time": "2023-10-02T08:01:31.168002",
          "status": "completed"
        },
        "tags": []
      },
      "outputs": [
        {
          "data": {
            "text/plain": [
              "<Axes: ylabel='count'>"
            ]
          },
          "execution_count": 16,
          "metadata": {},
          "output_type": "execute_result"
        },
        {
          "data": {
            "image/png": "[encoded data removed]",
            "text/plain": [
              "<Figure size 640x480 with 1 Axes>"
            ]
          },
          "metadata": {},
          "output_type": "display_data"
        }
      ],
      "source": [
        "sns.countplot(y_train)"
      ]
    },
    {
      "cell_type": "code",
      "execution_count": null,
      "id": "20a864ef",
      "metadata": {
        "execution": {
          "iopub.execute_input": "2023-10-02T08:01:31.379190Z",
          "iopub.status.busy": "2023-10-02T08:01:31.378476Z",
          "iopub.status.idle": "2023-10-02T08:01:32.339325Z",
          "shell.execute_reply": "2023-10-02T08:01:32.338445Z"
        },
        "id": "20a864ef",
        "outputId": "052655c5-cf03-45b5-d7f7-eb8e2e41637a",
        "papermill": {
          "duration": 0.970782,
          "end_time": "2023-10-02T08:01:32.341216",
          "exception": false,
          "start_time": "2023-10-02T08:01:31.370434",
          "status": "completed"
        },
        "tags": []
      },
      "outputs": [
        {
          "data": {
            "image/png": "[encoded data removed]",
            "text/plain": [
              "<Figure size 640x480 with 1 Axes>"
            ]
          },
          "metadata": {},
          "output_type": "display_data"
        },
        {
          "data": {
            "image/png": "[encoded data removed]",
            "text/plain": [
              "<Figure size 640x480 with 1 Axes>"
            ]
          },
          "metadata": {},
          "output_type": "display_data"
        },
        {
          "data": {
            "image/png": "[encoded data removed]",
            "text/plain": [
              "<Figure size 640x480 with 1 Axes>"
            ]
          },
          "metadata": {},
          "output_type": "display_data"
        }
      ],
      "source": [
        "import matplotlib.pyplot as plt\n",
        "import random\n",
        "num=random.randint(0,8000)\n",
        "x_train=np.array(x_train, dtype=np.uint8).reshape(-1,28,28,3)\n",
        "\n",
        "plt.imshow(x_train[num].reshape(28,28,3))\n",
        "plt.title(\"Random image from training data\")\n",
        "plt.show()\n",
        "num=random.randint(0,8000)\n",
        "plt.imshow(x_train[num].reshape(28,28,3))\n",
        "plt.title(\"Random image from training data\")\n",
        "plt.show()\n",
        "\n",
        "num=random.randint(0,8000)\n",
        "plt.imshow(x_train[num].reshape(28,28,3))\n",
        "plt.title(\"Random image from training data\")\n",
        "plt.show()"
      ]
    },
    {
      "cell_type": "markdown",
      "id": "f812ee6c",
      "metadata": {
        "id": "f812ee6c",
        "papermill": {
          "duration": 0.007504,
          "end_time": "2023-10-02T08:01:32.356252",
          "exception": false,
          "start_time": "2023-10-02T08:01:32.348748",
          "status": "completed"
        },
        "tags": []
      },
      "source": [
        "# Step 5: Model Building (CNN)"
      ]
    },
    {
      "cell_type": "code",
      "execution_count": null,
      "id": "408d9e99",
      "metadata": {
        "execution": {
          "iopub.execute_input": "2023-10-02T08:01:32.372248Z",
          "iopub.status.busy": "2023-10-02T08:01:32.371954Z",
          "iopub.status.idle": "2023-10-02T08:01:39.301510Z",
          "shell.execute_reply": "2023-10-02T08:01:39.300596Z"
        },
        "id": "408d9e99",
        "papermill": {
          "duration": 6.939931,
          "end_time": "2023-10-02T08:01:39.303646",
          "exception": false,
          "start_time": "2023-10-02T08:01:32.363715",
          "status": "completed"
        },
        "tags": []
      },
      "outputs": [],
      "source": [
        "from tensorflow.keras.models import Sequential\n",
        "from tensorflow.keras.layers import Conv2D, Flatten, Dense, MaxPool2D\n",
        "import tensorflow as tf"
      ]
    },
    {
      "cell_type": "code",
      "execution_count": null,
      "id": "959e3fae",
      "metadata": {
        "execution": {
          "iopub.execute_input": "2023-10-02T08:01:39.320242Z",
          "iopub.status.busy": "2023-10-02T08:01:39.319700Z",
          "iopub.status.idle": "2023-10-02T08:01:44.789745Z",
          "shell.execute_reply": "2023-10-02T08:01:44.788941Z"
        },
        "id": "959e3fae",
        "outputId": "72d98919-77a3-46eb-ea1d-fecce118efcb",
        "papermill": {
          "duration": 5.513026,
          "end_time": "2023-10-02T08:01:44.824419",
          "exception": false,
          "start_time": "2023-10-02T08:01:39.311393",
          "status": "completed"
        },
        "tags": []
      },
      "outputs": [
        {
          "name": "stdout",
          "output_type": "stream",
          "text": [
            "CPU times: user 2 µs, sys: 0 ns, total: 2 µs\n",
            "Wall time: 5.96 µs\n",
            "Model: \"sequential\"\n",
            "_________________________________________________________________\n",
            " Layer (type)                Output Shape              Param #   \n",
            "=================================================================\n",
            " conv2d (Conv2D)             (None, 28, 28, 16)        448       \n",
            "                                                                 \n",
            " max_pooling2d (MaxPooling2D  (None, 14, 14, 16)       0         \n",
            " )                                                               \n",
            "                                                                 \n",
            " batch_normalization (BatchN  (None, 14, 14, 16)       64        \n",
            " ormalization)                                                   \n",
            "                                                                 \n",
            " conv2d_1 (Conv2D)           (None, 12, 12, 32)        4640      \n",
            "                                                                 \n",
            " conv2d_2 (Conv2D)           (None, 10, 10, 64)        18496     \n",
            "                                                                 \n",
            " max_pooling2d_1 (MaxPooling  (None, 5, 5, 64)         0         \n",
            " 2D)                                                             \n",
            "                                                                 \n",
            " batch_normalization_1 (Batc  (None, 5, 5, 64)         256       \n",
            " hNormalization)                                                 \n",
            "                                                                 \n",
            " conv2d_3 (Conv2D)           (None, 3, 3, 128)         73856     \n",
            "                                                                 \n",
            " conv2d_4 (Conv2D)           (None, 1, 1, 256)         295168    \n",
            "                                                                 \n",
            " flatten (Flatten)           (None, 256)               0         \n",
            "                                                                 \n",
            " dropout (Dropout)           (None, 256)               0         \n",
            "                                                                 \n",
            " dense (Dense)               (None, 256)               65792     \n",
            "                                                                 \n",
            " batch_normalization_2 (Batc  (None, 256)              1024      \n",
            " hNormalization)                                                 \n",
            "                                                                 \n",
            " dropout_1 (Dropout)         (None, 256)               0         \n",
            "                                                                 \n",
            " dense_1 (Dense)             (None, 128)               32896     \n",
            "                                                                 \n",
            " batch_normalization_3 (Batc  (None, 128)              512       \n",
            " hNormalization)                                                 \n",
            "                                                                 \n",
            " dense_2 (Dense)             (None, 64)                8256      \n",
            "                                                                 \n",
            " batch_normalization_4 (Batc  (None, 64)               256       \n",
            " hNormalization)                                                 \n",
            "                                                                 \n",
            " dropout_2 (Dropout)         (None, 64)                0         \n",
            "                                                                 \n",
            " dense_3 (Dense)             (None, 32)                2080      \n",
            "                                                                 \n",
            " batch_normalization_5 (Batc  (None, 32)               128       \n",
            " hNormalization)                                                 \n",
            "                                                                 \n",
            " dense_4 (Dense)             (None, 7)                 231       \n",
            "                                                                 \n",
            "=================================================================\n",
            "Total params: 504,103\n",
            "Trainable params: 502,983\n",
            "Non-trainable params: 1,120\n",
            "_________________________________________________________________\n"
          ]
        }
      ],
      "source": [
        "%time\n",
        "\n",
        "model = Sequential()\n",
        "model.add(Conv2D(16, kernel_size = (3,3), input_shape = (28, 28, 3), activation = 'relu', padding = 'same'))\n",
        "model.add(MaxPool2D(pool_size = (2,2)))\n",
        "model.add(tf.keras.layers.BatchNormalization())\n",
        "\n",
        "model.add(Conv2D(32, kernel_size = (3,3), activation = 'relu'))\n",
        "model.add(Conv2D(64, kernel_size = (3,3), activation = 'relu'))\n",
        "\n",
        "model.add(MaxPool2D(pool_size = (2,2)))\n",
        "\n",
        "model.add(tf.keras.layers.BatchNormalization())\n",
        "\n",
        "model.add(Conv2D(128, kernel_size = (3,3), activation = 'relu'))\n",
        "model.add(Conv2D(256, kernel_size = (3,3), activation = 'relu'))\n",
        "\n",
        "model.add(Flatten())\n",
        "model.add(tf.keras.layers.Dropout(0.2))\n",
        "model.add(Dense(256,activation='relu'))\n",
        "\n",
        "model.add(tf.keras.layers.BatchNormalization())\n",
        "model.add(tf.keras.layers.Dropout(0.2))\n",
        "model.add(Dense(128,activation='relu'))\n",
        "\n",
        "model.add(tf.keras.layers.BatchNormalization())\n",
        "model.add(Dense(64,activation='relu'))\n",
        "\n",
        "model.add(tf.keras.layers.BatchNormalization())\n",
        "model.add(tf.keras.layers.Dropout(0.2))\n",
        "model.add(Dense(32,activation='relu'))\n",
        "\n",
        "model.add(tf.keras.layers.BatchNormalization())\n",
        "model.add(Dense(7,activation='softmax'))\n",
        "\n",
        "model.summary()"
      ]
    },
    {
      "cell_type": "markdown",
      "id": "7ed06f69",
      "metadata": {
        "id": "7ed06f69",
        "papermill": {
          "duration": 0.05054,
          "end_time": "2023-10-02T08:01:44.885418",
          "exception": false,
          "start_time": "2023-10-02T08:01:44.834878",
          "status": "completed"
        },
        "tags": []
      },
      "source": [
        "# Step 6: Setting Optimizer & Annealing\n",
        "\n",
        "---\n",
        "\n"
      ]
    },
    {
      "cell_type": "code",
      "execution_count": null,
      "id": "9501843b",
      "metadata": {
        "execution": {
          "iopub.execute_input": "2023-10-02T08:01:44.906678Z",
          "iopub.status.busy": "2023-10-02T08:01:44.906347Z",
          "iopub.status.idle": "2023-10-02T08:01:44.910914Z",
          "shell.execute_reply": "2023-10-02T08:01:44.909969Z"
        },
        "id": "9501843b",
        "papermill": {
          "duration": 0.017286,
          "end_time": "2023-10-02T08:01:44.912657",
          "exception": false,
          "start_time": "2023-10-02T08:01:44.895371",
          "status": "completed"
        },
        "tags": []
      },
      "outputs": [],
      "source": [
        "callback = tf.keras.callbacks.ModelCheckpoint(filepath='best_model.h5',\n",
        "                                              monitor='val_acc',\n",
        "                                              mode='max',\n",
        "                                              verbose=1,\n",
        "                                              save_best_only=True)"
      ]
    },
    {
      "cell_type": "code",
      "execution_count": null,
      "id": "29d16e64",
      "metadata": {
        "execution": {
          "iopub.execute_input": "2023-10-02T08:01:44.934312Z",
          "iopub.status.busy": "2023-10-02T08:01:44.933600Z",
          "iopub.status.idle": "2023-10-02T08:01:45.167911Z",
          "shell.execute_reply": "2023-10-02T08:01:45.167003Z"
        },
        "id": "29d16e64",
        "outputId": "f68031fe-8bce-4ff3-9f49-52411c0272ea",
        "papermill": {
          "duration": 0.247245,
          "end_time": "2023-10-02T08:01:45.169767",
          "exception": false,
          "start_time": "2023-10-02T08:01:44.922522",
          "status": "completed"
        },
        "tags": []
      },
      "outputs": [
        {
          "name": "stdout",
          "output_type": "stream",
          "text": [
            "CPU times: user 2 µs, sys: 1 µs, total: 3 µs\n",
            "Wall time: 6.44 µs\n"
          ]
        }
      ],
      "source": [
        "%time\n",
        "optimizer=tf.keras.optimizers.Adam(lr=0.001)\n",
        "\n",
        "model.compile(loss = 'sparse_categorical_crossentropy',\n",
        "              optimizer =optimizer,\n",
        "              metrics = ['accuracy'])\n"
      ]
    },
    {
      "cell_type": "markdown",
      "id": "c3d83b3e",
      "metadata": {
        "id": "c3d83b3e",
        "papermill": {
          "duration": 0.009939,
          "end_time": "2023-10-02T08:01:45.190263",
          "exception": false,
          "start_time": "2023-10-02T08:01:45.180324",
          "status": "completed"
        },
        "tags": []
      },
      "source": [
        "# Step 7: Fitting the model"
      ]
    },
    {
      "cell_type": "code",
      "execution_count": null,
      "id": "6b0a9f34",
      "metadata": {
        "execution": {
          "iopub.execute_input": "2023-10-02T08:01:45.212482Z",
          "iopub.status.busy": "2023-10-02T08:01:45.211616Z",
          "iopub.status.idle": "2023-10-02T08:03:51.290616Z",
          "shell.execute_reply": "2023-10-02T08:03:51.289295Z"
        },
        "id": "6b0a9f34",
        "outputId": "86dc3600-ce9a-48dc-cba7-94265181f84d",
        "papermill": {
          "duration": 126.092134,
          "end_time": "2023-10-02T08:03:51.292628",
          "exception": false,
          "start_time": "2023-10-02T08:01:45.200494",
          "status": "completed"
        },
        "tags": []
      },
      "outputs": [
        {
          "name": "stdout",
          "output_type": "stream",
          "text": [
            "Epoch 1/50\n",
            "234/234 [==============================] - 16s 14ms/step - loss: 1.2821 - accuracy: 0.5278 - val_loss: 1.8535 - val_accuracy: 0.3734\n",
            "Epoch 2/50\n",
            "234/234 [==============================] - 2s 9ms/step - loss: 0.5030 - accuracy: 0.8313 - val_loss: 1.2869 - val_accuracy: 0.4436\n",
            "Epoch 3/50\n",
            "234/234 [==============================] - 2s 10ms/step - loss: 0.3037 - accuracy: 0.8959 - val_loss: 1.3383 - val_accuracy: 0.4655\n",
            "Epoch 4/50\n",
            "234/234 [==============================] - 2s 9ms/step - loss: 0.2411 - accuracy: 0.9164 - val_loss: 1.2462 - val_accuracy: 0.4900\n",
            "Epoch 5/50\n",
            "234/234 [==============================] - 2s 10ms/step - loss: 0.1931 - accuracy: 0.9330 - val_loss: 0.7715 - val_accuracy: 0.6581\n",
            "Epoch 6/50\n",
            "234/234 [==============================] - 2s 10ms/step - loss: 0.1593 - accuracy: 0.9445 - val_loss: 0.8227 - val_accuracy: 0.6344\n",
            "Epoch 7/50\n",
            "234/234 [==============================] - 2s 11ms/step - loss: 0.1568 - accuracy: 0.9451 - val_loss: 0.8470 - val_accuracy: 0.6208\n",
            "Epoch 8/50\n",
            "234/234 [==============================] - 2s 9ms/step - loss: 0.1191 - accuracy: 0.9583 - val_loss: 0.5369 - val_accuracy: 0.7728\n",
            "Epoch 9/50\n",
            "234/234 [==============================] - 2s 9ms/step - loss: 0.1051 - accuracy: 0.9625 - val_loss: 0.5269 - val_accuracy: 0.7727\n",
            "Epoch 10/50\n",
            "234/234 [==============================] - 2s 10ms/step - loss: 0.0954 - accuracy: 0.9665 - val_loss: 0.5787 - val_accuracy: 0.7506\n",
            "Epoch 11/50\n",
            "234/234 [==============================] - 2s 9ms/step - loss: 0.0788 - accuracy: 0.9726 - val_loss: 0.2687 - val_accuracy: 0.8771\n",
            "Epoch 12/50\n",
            "234/234 [==============================] - 2s 10ms/step - loss: 0.0823 - accuracy: 0.9709 - val_loss: 0.9735 - val_accuracy: 0.6607\n",
            "Epoch 13/50\n",
            "234/234 [==============================] - 2s 10ms/step - loss: 0.0810 - accuracy: 0.9720 - val_loss: 0.4128 - val_accuracy: 0.7942\n",
            "Epoch 14/50\n",
            "234/234 [==============================] - 2s 9ms/step - loss: 0.0581 - accuracy: 0.9795 - val_loss: 0.4566 - val_accuracy: 0.8542\n",
            "Epoch 15/50\n",
            "234/234 [==============================] - 3s 11ms/step - loss: 0.0649 - accuracy: 0.9774 - val_loss: 0.3588 - val_accuracy: 0.8558\n",
            "Epoch 16/50\n",
            "234/234 [==============================] - 2s 9ms/step - loss: 0.0653 - accuracy: 0.9776 - val_loss: 0.3579 - val_accuracy: 0.8790\n",
            "Epoch 17/50\n",
            "234/234 [==============================] - 2s 9ms/step - loss: 0.0532 - accuracy: 0.9811 - val_loss: 0.1660 - val_accuracy: 0.9120\n",
            "Epoch 18/50\n",
            "234/234 [==============================] - 2s 10ms/step - loss: 0.0523 - accuracy: 0.9816 - val_loss: 0.3158 - val_accuracy: 0.8493\n",
            "Epoch 19/50\n",
            "234/234 [==============================] - 2s 9ms/step - loss: 0.0461 - accuracy: 0.9850 - val_loss: 0.1401 - val_accuracy: 0.9357\n",
            "Epoch 20/50\n",
            "234/234 [==============================] - 2s 10ms/step - loss: 0.0573 - accuracy: 0.9805 - val_loss: 0.6668 - val_accuracy: 0.7713\n",
            "Epoch 21/50\n",
            "234/234 [==============================] - 2s 10ms/step - loss: 0.0432 - accuracy: 0.9857 - val_loss: 0.1187 - val_accuracy: 0.9495\n",
            "Epoch 22/50\n",
            "234/234 [==============================] - 2s 9ms/step - loss: 0.0362 - accuracy: 0.9873 - val_loss: 0.2524 - val_accuracy: 0.9005\n",
            "Epoch 23/50\n",
            "234/234 [==============================] - 2s 9ms/step - loss: 0.0305 - accuracy: 0.9903 - val_loss: 0.1516 - val_accuracy: 0.9429\n",
            "Epoch 24/50\n",
            "234/234 [==============================] - 2s 9ms/step - loss: 0.0343 - accuracy: 0.9888 - val_loss: 0.2423 - val_accuracy: 0.9097\n",
            "Epoch 25/50\n",
            "234/234 [==============================] - 2s 9ms/step - loss: 0.0358 - accuracy: 0.9877 - val_loss: 0.1368 - val_accuracy: 0.9531\n",
            "Epoch 26/50\n",
            "234/234 [==============================] - 2s 10ms/step - loss: 0.0261 - accuracy: 0.9911 - val_loss: 0.0712 - val_accuracy: 0.9755\n",
            "Epoch 27/50\n",
            "234/234 [==============================] - 2s 10ms/step - loss: 0.0362 - accuracy: 0.9882 - val_loss: 0.0980 - val_accuracy: 0.9638\n",
            "Epoch 28/50\n",
            "234/234 [==============================] - 2s 9ms/step - loss: 0.0306 - accuracy: 0.9898 - val_loss: 0.1468 - val_accuracy: 0.9493\n",
            "Epoch 29/50\n",
            "234/234 [==============================] - 3s 11ms/step - loss: 0.0195 - accuracy: 0.9929 - val_loss: 0.4050 - val_accuracy: 0.8624\n",
            "Epoch 30/50\n",
            "234/234 [==============================] - 2s 10ms/step - loss: 0.0286 - accuracy: 0.9899 - val_loss: 1.5890 - val_accuracy: 0.6415\n",
            "Epoch 31/50\n",
            "234/234 [==============================] - 2s 9ms/step - loss: 0.0330 - accuracy: 0.9894 - val_loss: 1.2007 - val_accuracy: 0.6983\n",
            "Epoch 32/50\n",
            "234/234 [==============================] - 2s 9ms/step - loss: 0.0226 - accuracy: 0.9923 - val_loss: 0.2653 - val_accuracy: 0.9141\n",
            "Epoch 33/50\n",
            "234/234 [==============================] - 2s 9ms/step - loss: 0.0172 - accuracy: 0.9944 - val_loss: 0.2621 - val_accuracy: 0.9170\n",
            "Epoch 34/50\n",
            "234/234 [==============================] - 2s 10ms/step - loss: 0.0244 - accuracy: 0.9921 - val_loss: 0.0562 - val_accuracy: 0.9803\n",
            "Epoch 35/50\n",
            "234/234 [==============================] - 2s 9ms/step - loss: 0.0272 - accuracy: 0.9915 - val_loss: 0.0385 - val_accuracy: 0.9898\n",
            "Epoch 36/50\n",
            "234/234 [==============================] - 2s 9ms/step - loss: 0.0165 - accuracy: 0.9944 - val_loss: 0.0459 - val_accuracy: 0.9854\n",
            "Epoch 37/50\n",
            "234/234 [==============================] - 2s 9ms/step - loss: 0.0132 - accuracy: 0.9960 - val_loss: 0.0203 - val_accuracy: 0.9945\n",
            "Epoch 38/50\n",
            "234/234 [==============================] - 2s 10ms/step - loss: 0.0182 - accuracy: 0.9940 - val_loss: 0.5234 - val_accuracy: 0.8568\n",
            "Epoch 39/50\n",
            "234/234 [==============================] - 2s 9ms/step - loss: 0.0175 - accuracy: 0.9942 - val_loss: 0.0574 - val_accuracy: 0.9793\n",
            "Epoch 40/50\n",
            "234/234 [==============================] - 2s 9ms/step - loss: 0.0178 - accuracy: 0.9944 - val_loss: 0.0718 - val_accuracy: 0.9719\n",
            "Epoch 41/50\n",
            "234/234 [==============================] - 2s 10ms/step - loss: 0.0176 - accuracy: 0.9942 - val_loss: 0.1159 - val_accuracy: 0.9655\n",
            "Epoch 42/50\n",
            "234/234 [==============================] - 2s 10ms/step - loss: 0.0208 - accuracy: 0.9928 - val_loss: 0.4976 - val_accuracy: 0.8532\n",
            "Epoch 43/50\n",
            "234/234 [==============================] - 3s 11ms/step - loss: 0.0179 - accuracy: 0.9941 - val_loss: 0.1652 - val_accuracy: 0.9374\n",
            "Epoch 44/50\n",
            "234/234 [==============================] - 2s 10ms/step - loss: 0.0125 - accuracy: 0.9958 - val_loss: 1.0296 - val_accuracy: 0.7434\n",
            "Epoch 45/50\n",
            "234/234 [==============================] - 2s 9ms/step - loss: 0.0208 - accuracy: 0.9932 - val_loss: 0.3390 - val_accuracy: 0.8996\n",
            "Epoch 46/50\n",
            "234/234 [==============================] - 2s 9ms/step - loss: 0.0204 - accuracy: 0.9932 - val_loss: 0.1361 - val_accuracy: 0.9557\n",
            "Epoch 47/50\n",
            "234/234 [==============================] - 2s 10ms/step - loss: 0.0163 - accuracy: 0.9949 - val_loss: 0.0508 - val_accuracy: 0.9810\n",
            "Epoch 48/50\n",
            "234/234 [==============================] - 2s 10ms/step - loss: 0.0121 - accuracy: 0.9955 - val_loss: 0.0561 - val_accuracy: 0.9779\n",
            "Epoch 49/50\n",
            "234/234 [==============================] - 2s 10ms/step - loss: 0.0082 - accuracy: 0.9975 - val_loss: 0.0903 - val_accuracy: 0.9688\n",
            "Epoch 50/50\n",
            "234/234 [==============================] - 2s 9ms/step - loss: 0.0100 - accuracy: 0.9967 - val_loss: 0.7053 - val_accuracy: 0.8283\n",
            "Duration: 0:02:06.071863\n"
          ]
        }
      ],
      "source": [
        "from datetime import datetime\n",
        "start_time = datetime.now()\n",
        "\n",
        "history = model.fit(x_train,\n",
        "                    y_train,\n",
        "                    validation_split=0.2,\n",
        "                    batch_size = 128,\n",
        "                    epochs = 50,\n",
        "                    shuffle=True,\n",
        "                    callbacks=[callback])\n",
        "\n",
        "end_time = datetime.now()\n",
        "print('Duration: {}'.format(end_time - start_time))"
      ]
    },
    {
      "cell_type": "markdown",
      "id": "d8a03c4c",
      "metadata": {
        "id": "d8a03c4c",
        "papermill": {
          "duration": 0.093126,
          "end_time": "2023-10-02T08:03:51.486038",
          "exception": false,
          "start_time": "2023-10-02T08:03:51.392912",
          "status": "completed"
        },
        "tags": []
      },
      "source": [
        "# Step 8: Model Evaluation"
      ]
    },
    {
      "cell_type": "code",
      "execution_count": null,
      "id": "7632f10e",
      "metadata": {
        "execution": {
          "iopub.execute_input": "2023-10-02T08:03:51.674795Z",
          "iopub.status.busy": "2023-10-02T08:03:51.673892Z",
          "iopub.status.idle": "2023-10-02T08:03:51.925138Z",
          "shell.execute_reply": "2023-10-02T08:03:51.924263Z"
        },
        "id": "7632f10e",
        "outputId": "a65d5487-89d9-4faa-973c-aa522717da87",
        "papermill": {
          "duration": 0.348409,
          "end_time": "2023-10-02T08:03:51.927039",
          "exception": false,
          "start_time": "2023-10-02T08:03:51.578630",
          "status": "completed"
        },
        "tags": []
      },
      "outputs": [
        {
          "data": {
            "image/png": "[encoded data removed]",
            "text/plain": [
              "<Figure size 640x480 with 1 Axes>"
            ]
          },
          "metadata": {},
          "output_type": "display_data"
        }
      ],
      "source": [
        "#plot of accuracy vs epoch\n",
        "plt.plot(history.history['accuracy'])\n",
        "plt.plot(history.history['val_accuracy'])\n",
        "plt.title('model accuracy')\n",
        "plt.ylabel('accuracy')\n",
        "plt.xlabel('epoch')\n",
        "plt.legend(['train', 'val'], loc='upper left')\n",
        "plt.show()"
      ]
    },
    {
      "cell_type": "code",
      "execution_count": null,
      "id": "42223aba",
      "metadata": {
        "execution": {
          "iopub.execute_input": "2023-10-02T08:03:52.115297Z",
          "iopub.status.busy": "2023-10-02T08:03:52.114546Z",
          "iopub.status.idle": "2023-10-02T08:03:52.373338Z",
          "shell.execute_reply": "2023-10-02T08:03:52.372449Z"
        },
        "id": "42223aba",
        "outputId": "4b199079-1bc4-47b3-b0f6-0e399bd10966",
        "papermill": {
          "duration": 0.354836,
          "end_time": "2023-10-02T08:03:52.375330",
          "exception": false,
          "start_time": "2023-10-02T08:03:52.020494",
          "status": "completed"
        },
        "tags": []
      },
      "outputs": [
        {
          "data": {
            "image/png": "[encoded data removed]",
            "text/plain": [
              "<Figure size 640x480 with 1 Axes>"
            ]
          },
          "metadata": {},
          "output_type": "display_data"
        }
      ],
      "source": [
        "#plot of loss vs epoch\n",
        "plt.plot(history.history['loss'])\n",
        "plt.plot(history.history['val_loss'])\n",
        "plt.title('model loss')\n",
        "plt.ylabel('loss')\n",
        "plt.xlabel('epoch')\n",
        "plt.legend(['train', 'val'], loc='upper left')\n",
        "plt.show()"
      ]
    },
    {
      "cell_type": "code",
      "execution_count": null,
      "id": "1bbfae47",
      "metadata": {
        "execution": {
          "iopub.execute_input": "2023-10-02T08:03:52.565041Z",
          "iopub.status.busy": "2023-10-02T08:03:52.564666Z",
          "iopub.status.idle": "2023-10-02T08:03:52.674690Z",
          "shell.execute_reply": "2023-10-02T08:03:52.673628Z"
        },
        "id": "1bbfae47",
        "papermill": {
          "duration": 0.206721,
          "end_time": "2023-10-02T08:03:52.676819",
          "exception": false,
          "start_time": "2023-10-02T08:03:52.470098",
          "status": "completed"
        },
        "tags": []
      },
      "outputs": [],
      "source": [
        "model.save('Skin Cancer.h5')\n"
      ]
    },
    {
      "cell_type": "code",
      "execution_count": null,
      "id": "412b3f2b",
      "metadata": {
        "execution": {
          "iopub.execute_input": "2023-10-02T08:03:52.865515Z",
          "iopub.status.busy": "2023-10-02T08:03:52.864810Z",
          "iopub.status.idle": "2023-10-02T08:03:53.873795Z",
          "shell.execute_reply": "2023-10-02T08:03:53.872826Z"
        },
        "id": "412b3f2b",
        "outputId": "758af058-3f8c-4247-93cd-f55366e108ff",
        "papermill": {
          "duration": 1.10595,
          "end_time": "2023-10-02T08:03:53.875979",
          "exception": false,
          "start_time": "2023-10-02T08:03:52.770029",
          "status": "completed"
        },
        "tags": []
      },
      "outputs": [
        {
          "name": "stdout",
          "output_type": "stream",
          "text": [
            "63/63 [==============================] - 1s 5ms/step - loss: 2.0276 - accuracy: 0.6945\n"
          ]
        }
      ],
      "source": [
        "x_test=np.array(x_test).reshape(-1,28,28,3)\n",
        "loss, acc = model.evaluate(x_test, y_test, verbose=1)"
      ]
    },
    {
      "cell_type": "code",
      "execution_count": null,
      "id": "f4efed00",
      "metadata": {
        "execution": {
          "iopub.execute_input": "2023-10-02T08:03:54.067546Z",
          "iopub.status.busy": "2023-10-02T08:03:54.067212Z",
          "iopub.status.idle": "2023-10-02T08:03:54.490330Z",
          "shell.execute_reply": "2023-10-02T08:03:54.488997Z"
        },
        "id": "f4efed00",
        "outputId": "0c196d12-d7e6-42c6-bb52-37fab29a8316",
        "papermill": {
          "duration": 0.522384,
          "end_time": "2023-10-02T08:03:54.492233",
          "exception": false,
          "start_time": "2023-10-02T08:03:53.969849",
          "status": "completed"
        },
        "tags": []
      },
      "outputs": [
        {
          "data": {
            "image/png": "[encoded data removed]",
            "text/plain": [
              "<Figure size 640x480 with 1 Axes>"
            ]
          },
          "metadata": {},
          "output_type": "display_data"
        },
        {
          "name": "stdout",
          "output_type": "stream",
          "text": [
            "1/1 [==============================] - 0s 265ms/step\n",
            "[1.2108380e-08 8.9141089e-08 2.4244223e-08 4.0486363e-08 9.9997342e-01\n",
            " 1.6198710e-06 2.4758443e-05]\n",
            "('nv', ' melanocytic nevi')\n"
          ]
        }
      ],
      "source": [
        "# Import the necessary libraries\n",
        "import PIL\n",
        "import matplotlib.pyplot as plt\n",
        "import numpy as np\n",
        "\n",
        "# Load the image\n",
        "image = PIL.Image.open('/kaggle/input/testimage/3.jpeg')\n",
        "image = image.resize((28, 28))\n",
        "\n",
        "# Convert the image to a NumPy array\n",
        "img = np.array(image)\n",
        "\n",
        "# Reshape the array if needed\n",
        "#img = img.reshape(-1, 28, 28, 3)  # Uncomment this line if needed\n",
        "\n",
        "# Display the image\n",
        "plt.imshow(img)\n",
        "plt.axis('off')  # Turn off axis labels\n",
        "plt.show()\n",
        "\n",
        "# Rest of your code\n",
        "img = x_test[1]\n",
        "img = np.array(image).reshape(-1, 28, 28, 3)\n",
        "result = model.predict(img)\n",
        "print(result[0])\n",
        "result = result.tolist()\n",
        "max_prob = max(result[0])\n",
        "class_ind = result[0].index(max_prob)\n",
        "print(classes[class_ind])\n"
      ]
    },
    {
      "cell_type": "code",
      "execution_count": null,
      "id": "7d72a65d",
      "metadata": {
        "execution": {
          "iopub.execute_input": "2023-10-02T08:03:54.688605Z",
          "iopub.status.busy": "2023-10-02T08:03:54.687944Z",
          "iopub.status.idle": "2023-10-02T08:03:54.966656Z",
          "shell.execute_reply": "2023-10-02T08:03:54.965698Z"
        },
        "papermill": {
          "duration": 0.376764,
          "end_time": "2023-10-02T08:03:54.968459",
          "exception": false,
          "start_time": "2023-10-02T08:03:54.591695",
          "status": "completed"
        },
        "tags": [],
        "id": "7d72a65d",
        "outputId": "2e01a5d4-c16d-4e09-b733-d05eea177b05"
      },
      "outputs": [
        {
          "data": {
            "image/png": "[encoded data removed]",
            "text/plain": [
              "<Figure size 640x480 with 1 Axes>"
            ]
          },
          "metadata": {},
          "output_type": "display_data"
        },
        {
          "name": "stdout",
          "output_type": "stream",
          "text": [
            "1/1 [==============================] - 0s 42ms/step\n",
            "[1.9904843e-04 5.1731680e-04 7.9386833e-04 2.2453361e-05 9.9665135e-01\n",
            " 2.8109495e-04 1.5349414e-03]\n",
            "('nv', ' melanocytic nevi')\n"
          ]
        }
      ],
      "source": [
        "import requests\n",
        "from PIL import Image\n",
        "import matplotlib.pyplot as plt\n",
        "import numpy as np\n",
        "from io import BytesIO  # Import BytesIO\n",
        "\n",
        "# Define the URL of the image you want to load\n",
        "image_url = \"https://m4b6f3p8.rocketcdn.me/app/uploads/2021/04/basalCellCarcinomaBCC_6163_lg.jpg\"\n",
        "\n",
        "# Load the image from the URL\n",
        "response = requests.get(image_url)\n",
        "image = Image.open(BytesIO(response.content))  # Use BytesIO to read the content\n",
        "image = image.resize((28, 28))\n",
        "\n",
        "# Convert the image to a NumPy array\n",
        "img = np.array(image)\n",
        "\n",
        "# Reshape the array if needed\n",
        "# img = img.reshape(-1, 28, 28, 3)  # Uncomment this line if needed\n",
        "\n",
        "# Display the image\n",
        "plt.imshow(img)\n",
        "plt.axis('off')  # Turn off axis labels\n",
        "plt.show()\n",
        "\n",
        "# Rest of your code\n",
        "img = x_test[1]\n",
        "img = np.array(image).reshape(-1, 28, 28, 3)\n",
        "result = model.predict(img)\n",
        "print(result[0])\n",
        "result = result.tolist()\n",
        "max_prob = max(result[0])\n",
        "class_ind = result[0].index(max_prob)\n",
        "print(classes[class_ind])\n"
      ]
    },
    {
      "cell_type": "code",
      "source": [
        "from google.colab import drive\n",
        "from google.colab import files\n",
        "from PIL import Image\n",
        "import numpy as np\n",
        "import tensorflow as tf\n",
        "from tensorflow.keras.models import load_model\n",
        "import ipywidgets as widgets\n",
        "from IPython.display import display\n",
        "\n",
        "# Mount Google Drive\n",
        "drive.mount('/content/drive')\n",
        "\n",
        "# Load the model\n",
        "model = load_model('/content/drive/MyDrive/path_to_your_model.h5')\n",
        "\n",
        "# Define the class labels\n",
        "classes = {\n",
        "    0: 'Melanocytic nevi',\n",
        "    1: 'Melanoma',\n",
        "    2: 'Benign keratosis-like lesions',\n",
        "    3: 'Basal cell carcinoma',\n",
        "    4: 'Actinic keratoses',\n",
        "    5: 'Vascular lesions',\n",
        "    6: 'Dermatofibroma'\n",
        "}\n",
        "\n",
        "# Function to handle image upload and prediction\n",
        "def predict_image(image_path):\n",
        "    # Load the image\n",
        "    image = Image.open(image_path)\n",
        "    image = image.resize((28, 28))  # Resize the image to match the input shape of the model\n",
        "    image = np.array(image)  # Convert the image to a numpy array\n",
        "    image = image.reshape(1, 28, 28, 3)  # Reshape the image to match the input shape of the model\n",
        "\n",
        "    # Normalize the image\n",
        "    image = image / 255.0\n",
        "\n",
        "    # Make predictions\n",
        "    predictions = model.predict(image)\n",
        "    class_index = np.argmax(predictions)\n",
        "    class_label = classes[class_index]\n",
        "\n",
        "    # Print the predicted class label\n",
        "    print(\"Predicted class: \", class_label)\n",
        "\n",
        "# Create file upload widget\n",
        "upload_widget = widgets.FileUpload(description='Upload Image', multiple=False)\n",
        "\n",
        "# Create button widget\n",
        "button = widgets.Button(description='Predict')\n",
        "\n",
        "# Function to handle button click event\n",
        "def on_button_clicked(b):\n",
        "    # Get the uploaded image\n",
        "    uploaded_image = upload_widget.value\n",
        "    image_path = list(uploaded_image.keys())[0]\n",
        "\n",
        "    # Predict the image\n",
        "    predict_image(image_path)\n",
        "\n",
        "# Register button click event\n",
        "button.on_click(on_button_clicked)\n",
        "\n",
        "# Display the widgets\n",
        "display(upload_widget, button)"
      ],
      "metadata": {
        "id": "I449UcLIRdNd"
      },
      "id": "I449UcLIRdNd",
      "execution_count": null,
      "outputs": []
    }
  ],
  "metadata": {
    "kernelspec": {
      "display_name": "Python 3",
      "language": "python",
      "name": "python3"
    },
    "language_info": {
      "codemirror_mode": {
        "name": "ipython",
        "version": 3
      },
      "file_extension": ".py",
      "mimetype": "text/x-python",
      "name": "python",
      "nbconvert_exporter": "python",
      "pygments_lexer": "ipython3",
      "version": "3.10.12"
    },
    "papermill": {
      "default_parameters": {},
      "duration": 163.351892,
      "end_time": "2023-10-02T08:03:58.428270",
      "environment_variables": {},
      "exception": null,
      "input_path": "__notebook__.ipynb",
      "output_path": "__notebook__.ipynb",
      "parameters": {},
      "start_time": "2023-10-02T08:01:15.076378",
      "version": "2.4.0"
    },
    "colab": {
      "provenance": []
    }
  },
  "nbformat": 4,
  "nbformat_minor": 5
}