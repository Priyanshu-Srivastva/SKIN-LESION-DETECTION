{
  "cells": [
    {
      "cell_type": "markdown",
      "id": "c6f5cdc5",
      "metadata": {
        "_cell_guid": "b1076dfc-b9ad-4769-8c92-a6c4dae69d19",
        "_uuid": "8f2839f25d086af736a60e9eeb907d3b93b6e0e5",
        "papermill": {
          "duration": 0.006556,
          "end_time": "2023-10-25T15:37:39.852131",
          "exception": false,
          "start_time": "2023-10-25T15:37:39.845575",
          "status": "completed"
        },
        "tags": [],
        "id": "c6f5cdc5"
      },
      "source": [
        "**HOW CNN BETTER THAN ANN**"
      ]
    },
    {
      "cell_type": "markdown",
      "source": [
        "Spatial Hierarchies and Local Patterns:\n",
        "\n",
        "1. CNNs: CNNs leverage convolutional layers to detect local patterns in different parts of an image. These layers help capture spatial hierarchies by learning features at various scales.\n",
        "\n",
        "ANNs: ANNs lack the ability to efficiently capture local patterns and spatial hierarchies in images, as they treat the input as a flat vector.\n",
        "Parameter Sharing:\n",
        "\n",
        "2. CNNs: CNNs use parameter sharing through convolutional filters. This reduces the number of parameters, making the network more efficient and capable of learning translation-invariant features.\n",
        "\n",
        "ANNs: ANNs don't share parameters across spatial dimensions, leading to a higher number of parameters and increased susceptibility to overfitting.\n",
        "Translation Invariance:\n",
        "\n",
        "3. CNNs: CNNs inherently possess translation invariance due to their use of shared weights in convolutional layers. This means they can recognize patterns regardless of their position in the input image.\n",
        "\n",
        "ANNs: ANNs lack this translation invariance, making them less effective in recognizing patterns in different parts of an image.\n",
        "Pooling Layers:\n",
        "\n",
        "4. CNNs: CNNs often include pooling layers to downsample the spatial dimensions of the input, reducing computational requirements and enhancing translation invariance.\n",
        "\n",
        "ANNs: ANNs typically don't have dedicated pooling layers, and downsampling is achieved through fully connected layers, which may lead to information loss.\n",
        "Local Connectivity:\n",
        "\n",
        "5. CNNs: CNNs exploit local connectivity, where each neuron is connected to a small local region of the input, allowing them to focus on specific patterns.\n",
        "\n",
        "ANNs: ANNs have fully connected layers, where each neuron is connected to all neurons in the previous layer, making them less effective in capturing local patterns."
      ],
      "metadata": {
        "id": "-U-Po6pQ-IPm"
      },
      "id": "-U-Po6pQ-IPm"
    },
    {
      "cell_type": "code",
      "execution_count": null,
      "id": "acd6b128",
      "metadata": {
        "execution": {
          "iopub.execute_input": "2023-10-25T15:37:39.865862Z",
          "iopub.status.busy": "2023-10-25T15:37:39.865487Z",
          "iopub.status.idle": "2023-10-25T15:37:45.723265Z",
          "shell.execute_reply": "2023-10-25T15:37:45.722456Z"
        },
        "papermill": {
          "duration": 5.867304,
          "end_time": "2023-10-25T15:37:45.725567",
          "exception": false,
          "start_time": "2023-10-25T15:37:39.858263",
          "status": "completed"
        },
        "tags": [],
        "id": "acd6b128",
        "outputId": "965f75a1-ad89-4267-eacb-640573e4d61a"
      },
      "outputs": [
        {
          "name": "stderr",
          "output_type": "stream",
          "text": [
            "/opt/conda/lib/python3.10/site-packages/scipy/__init__.py:146: UserWarning: A NumPy version >=1.16.5 and <1.23.0 is required for this version of SciPy (detected version 1.23.5\n",
            "  warnings.warn(f\"A NumPy version >={np_minversion} and <{np_maxversion}\"\n"
          ]
        }
      ],
      "source": [
        "import torch\n",
        "import numpy as np\n",
        "import pandas as pd\n",
        "import torch.nn as nn\n",
        "import torch.onnx\n",
        "import torch.optim as optim\n",
        "import torch.nn.functional as F\n",
        "import matplotlib.pyplot as plt\n",
        "import seaborn as sns\n",
        "import matplotlib.pyplot as plt\n",
        "import itertools\n",
        "from sklearn.metrics import confusion_matrix\n",
        "from torch.optim.lr_scheduler import ReduceLROnPlateau\n",
        "from torchvision import transforms\n",
        "from torch.utils.data import TensorDataset, DataLoader\n",
        "from torch.nn.functional import one_hot\n",
        "from sklearn.model_selection import train_test_split"
      ]
    },
    {
      "cell_type": "markdown",
      "id": "78d23af4",
      "metadata": {
        "papermill": {
          "duration": 0.005942,
          "end_time": "2023-10-25T15:37:45.738005",
          "exception": false,
          "start_time": "2023-10-25T15:37:45.732063",
          "status": "completed"
        },
        "tags": [],
        "id": "78d23af4"
      },
      "source": [
        "### Reading Data"
      ]
    },
    {
      "cell_type": "code",
      "execution_count": null,
      "id": "311e2bf8",
      "metadata": {
        "execution": {
          "iopub.execute_input": "2023-10-25T15:37:45.751543Z",
          "iopub.status.busy": "2023-10-25T15:37:45.751114Z",
          "iopub.status.idle": "2023-10-25T15:37:50.793026Z",
          "shell.execute_reply": "2023-10-25T15:37:50.792012Z"
        },
        "papermill": {
          "duration": 5.051399,
          "end_time": "2023-10-25T15:37:50.795436",
          "exception": false,
          "start_time": "2023-10-25T15:37:45.744037",
          "status": "completed"
        },
        "tags": [],
        "id": "311e2bf8",
        "outputId": "a45cdb21-ad57-41eb-eaa4-226ef614254a"
      },
      "outputs": [
        {
          "data": {
            "text/html": [
              "<div>\n",
              "<style scoped>\n",
              "    .dataframe tbody tr th:only-of-type {\n",
              "        vertical-align: middle;\n",
              "    }\n",
              "\n",
              "    .dataframe tbody tr th {\n",
              "        vertical-align: top;\n",
              "    }\n",
              "\n",
              "    .dataframe thead th {\n",
              "        text-align: right;\n",
              "    }\n",
              "</style>\n",
              "<table border=\"1\" class=\"dataframe\">\n",
              "  <thead>\n",
              "    <tr style=\"text-align: right;\">\n",
              "      <th></th>\n",
              "      <th>pixel0000</th>\n",
              "      <th>pixel0001</th>\n",
              "      <th>pixel0002</th>\n",
              "      <th>pixel0003</th>\n",
              "      <th>pixel0004</th>\n",
              "      <th>pixel0005</th>\n",
              "      <th>pixel0006</th>\n",
              "      <th>pixel0007</th>\n",
              "      <th>pixel0008</th>\n",
              "      <th>pixel0009</th>\n",
              "      <th>...</th>\n",
              "      <th>pixel2343</th>\n",
              "      <th>pixel2344</th>\n",
              "      <th>pixel2345</th>\n",
              "      <th>pixel2346</th>\n",
              "      <th>pixel2347</th>\n",
              "      <th>pixel2348</th>\n",
              "      <th>pixel2349</th>\n",
              "      <th>pixel2350</th>\n",
              "      <th>pixel2351</th>\n",
              "      <th>label</th>\n",
              "    </tr>\n",
              "  </thead>\n",
              "  <tbody>\n",
              "    <tr>\n",
              "      <th>0</th>\n",
              "      <td>192</td>\n",
              "      <td>153</td>\n",
              "      <td>193</td>\n",
              "      <td>195</td>\n",
              "      <td>155</td>\n",
              "      <td>192</td>\n",
              "      <td>197</td>\n",
              "      <td>154</td>\n",
              "      <td>185</td>\n",
              "      <td>202</td>\n",
              "      <td>...</td>\n",
              "      <td>173</td>\n",
              "      <td>124</td>\n",
              "      <td>138</td>\n",
              "      <td>183</td>\n",
              "      <td>147</td>\n",
              "      <td>166</td>\n",
              "      <td>185</td>\n",
              "      <td>154</td>\n",
              "      <td>177</td>\n",
              "      <td>2</td>\n",
              "    </tr>\n",
              "    <tr>\n",
              "      <th>1</th>\n",
              "      <td>25</td>\n",
              "      <td>14</td>\n",
              "      <td>30</td>\n",
              "      <td>68</td>\n",
              "      <td>48</td>\n",
              "      <td>75</td>\n",
              "      <td>123</td>\n",
              "      <td>93</td>\n",
              "      <td>126</td>\n",
              "      <td>158</td>\n",
              "      <td>...</td>\n",
              "      <td>60</td>\n",
              "      <td>39</td>\n",
              "      <td>55</td>\n",
              "      <td>25</td>\n",
              "      <td>14</td>\n",
              "      <td>28</td>\n",
              "      <td>25</td>\n",
              "      <td>14</td>\n",
              "      <td>27</td>\n",
              "      <td>2</td>\n",
              "    </tr>\n",
              "    <tr>\n",
              "      <th>2</th>\n",
              "      <td>192</td>\n",
              "      <td>138</td>\n",
              "      <td>153</td>\n",
              "      <td>200</td>\n",
              "      <td>145</td>\n",
              "      <td>163</td>\n",
              "      <td>201</td>\n",
              "      <td>142</td>\n",
              "      <td>160</td>\n",
              "      <td>206</td>\n",
              "      <td>...</td>\n",
              "      <td>167</td>\n",
              "      <td>129</td>\n",
              "      <td>143</td>\n",
              "      <td>159</td>\n",
              "      <td>124</td>\n",
              "      <td>142</td>\n",
              "      <td>136</td>\n",
              "      <td>104</td>\n",
              "      <td>117</td>\n",
              "      <td>2</td>\n",
              "    </tr>\n",
              "    <tr>\n",
              "      <th>3</th>\n",
              "      <td>38</td>\n",
              "      <td>19</td>\n",
              "      <td>30</td>\n",
              "      <td>95</td>\n",
              "      <td>59</td>\n",
              "      <td>72</td>\n",
              "      <td>143</td>\n",
              "      <td>103</td>\n",
              "      <td>119</td>\n",
              "      <td>171</td>\n",
              "      <td>...</td>\n",
              "      <td>44</td>\n",
              "      <td>26</td>\n",
              "      <td>36</td>\n",
              "      <td>25</td>\n",
              "      <td>12</td>\n",
              "      <td>17</td>\n",
              "      <td>25</td>\n",
              "      <td>12</td>\n",
              "      <td>15</td>\n",
              "      <td>2</td>\n",
              "    </tr>\n",
              "    <tr>\n",
              "      <th>4</th>\n",
              "      <td>158</td>\n",
              "      <td>113</td>\n",
              "      <td>139</td>\n",
              "      <td>194</td>\n",
              "      <td>144</td>\n",
              "      <td>174</td>\n",
              "      <td>215</td>\n",
              "      <td>162</td>\n",
              "      <td>191</td>\n",
              "      <td>225</td>\n",
              "      <td>...</td>\n",
              "      <td>209</td>\n",
              "      <td>166</td>\n",
              "      <td>185</td>\n",
              "      <td>172</td>\n",
              "      <td>135</td>\n",
              "      <td>149</td>\n",
              "      <td>109</td>\n",
              "      <td>78</td>\n",
              "      <td>92</td>\n",
              "      <td>2</td>\n",
              "    </tr>\n",
              "  </tbody>\n",
              "</table>\n",
              "<p>5 rows × 2353 columns</p>\n",
              "</div>"
            ],
            "text/plain": [
              "   pixel0000  pixel0001  pixel0002  pixel0003  pixel0004  pixel0005  \\\n",
              "0        192        153        193        195        155        192   \n",
              "1         25         14         30         68         48         75   \n",
              "2        192        138        153        200        145        163   \n",
              "3         38         19         30         95         59         72   \n",
              "4        158        113        139        194        144        174   \n",
              "\n",
              "   pixel0006  pixel0007  pixel0008  pixel0009  ...  pixel2343  pixel2344  \\\n",
              "0        197        154        185        202  ...        173        124   \n",
              "1        123         93        126        158  ...         60         39   \n",
              "2        201        142        160        206  ...        167        129   \n",
              "3        143        103        119        171  ...         44         26   \n",
              "4        215        162        191        225  ...        209        166   \n",
              "\n",
              "   pixel2345  pixel2346  pixel2347  pixel2348  pixel2349  pixel2350  \\\n",
              "0        138        183        147        166        185        154   \n",
              "1         55         25         14         28         25         14   \n",
              "2        143        159        124        142        136        104   \n",
              "3         36         25         12         17         25         12   \n",
              "4        185        172        135        149        109         78   \n",
              "\n",
              "   pixel2351  label  \n",
              "0        177      2  \n",
              "1         27      2  \n",
              "2        117      2  \n",
              "3         15      2  \n",
              "4         92      2  \n",
              "\n",
              "[5 rows x 2353 columns]"
            ]
          },
          "execution_count": 2,
          "metadata": {},
          "output_type": "execute_result"
        }
      ],
      "source": [
        "data_dir = '/kaggle/input/skin-cancer-mnist-ham10000/hmnist_28_28_RGB.csv'\n",
        "data = pd.read_csv(data_dir)\n",
        "data.head()"
      ]
    },
    {
      "cell_type": "markdown",
      "id": "8a81bbd5",
      "metadata": {
        "papermill": {
          "duration": 0.007261,
          "end_time": "2023-10-25T15:37:50.810256",
          "exception": false,
          "start_time": "2023-10-25T15:37:50.802995",
          "status": "completed"
        },
        "tags": [],
        "id": "8a81bbd5"
      },
      "source": [
        "# Data Processing"
      ]
    },
    {
      "cell_type": "markdown",
      "id": "19c234dd",
      "metadata": {
        "papermill": {
          "duration": 0.006229,
          "end_time": "2023-10-25T15:37:50.823062",
          "exception": false,
          "start_time": "2023-10-25T15:37:50.816833",
          "status": "completed"
        },
        "tags": [],
        "id": "19c234dd"
      },
      "source": [
        "### Splitting and labeling"
      ]
    },
    {
      "cell_type": "code",
      "execution_count": null,
      "id": "141c1f37",
      "metadata": {
        "execution": {
          "iopub.execute_input": "2023-10-25T15:37:50.837355Z",
          "iopub.status.busy": "2023-10-25T15:37:50.837049Z",
          "iopub.status.idle": "2023-10-25T15:37:50.904208Z",
          "shell.execute_reply": "2023-10-25T15:37:50.903124Z"
        },
        "papermill": {
          "duration": 0.076813,
          "end_time": "2023-10-25T15:37:50.906282",
          "exception": false,
          "start_time": "2023-10-25T15:37:50.829469",
          "status": "completed"
        },
        "tags": [],
        "id": "141c1f37"
      },
      "outputs": [],
      "source": [
        "# Load data\n",
        "label_column = data[\"label\"]\n",
        "data_columns = data.drop(columns=[\"label\"])"
      ]
    },
    {
      "cell_type": "markdown",
      "id": "e2d77d72",
      "metadata": {
        "papermill": {
          "duration": 0.006298,
          "end_time": "2023-10-25T15:37:50.919350",
          "exception": false,
          "start_time": "2023-10-25T15:37:50.913052",
          "status": "completed"
        },
        "tags": [],
        "id": "e2d77d72"
      },
      "source": [
        "### Handling oversampling data"
      ]
    },
    {
      "cell_type": "code",
      "execution_count": null,
      "id": "df3a3293",
      "metadata": {
        "execution": {
          "iopub.execute_input": "2023-10-25T15:37:50.933335Z",
          "iopub.status.busy": "2023-10-25T15:37:50.933036Z",
          "iopub.status.idle": "2023-10-25T15:37:51.526803Z",
          "shell.execute_reply": "2023-10-25T15:37:51.525932Z"
        },
        "papermill": {
          "duration": 0.603394,
          "end_time": "2023-10-25T15:37:51.529163",
          "exception": false,
          "start_time": "2023-10-25T15:37:50.925769",
          "status": "completed"
        },
        "tags": [],
        "id": "df3a3293"
      },
      "outputs": [],
      "source": [
        "# Convert data and labels to NumPy arrays\n",
        "data_numpy = data_columns.values\n",
        "label_numpy = label_column.values\n",
        "\n",
        "# Convert NumPy arrays to PyTorch tensors\n",
        "data_tensor = torch.tensor(data_numpy, dtype=torch.float32)\n",
        "label_tensor = torch.tensor(label_numpy, dtype=torch.long)\n",
        "\n",
        "# Combine data and labels into a TensorDataset\n",
        "dataset = TensorDataset(data_tensor, label_tensor)\n",
        "\n",
        "# Oversampling using PyTorch DataLoader with a sampler\n",
        "oversampled_loader = DataLoader(\n",
        "    dataset,\n",
        "    batch_size=len(dataset),  # Use the length of the dataset as the batch size\n",
        "    sampler=torch.utils.data.sampler.RandomSampler(dataset, replacement=True),\n",
        ")\n",
        "\n",
        "# Iterate through the oversampled_loader to generate the oversampled data\n",
        "for batch in oversampled_loader:\n",
        "    Data, Label = batch"
      ]
    },
    {
      "cell_type": "markdown",
      "id": "3aba61be",
      "metadata": {
        "papermill": {
          "duration": 0.006406,
          "end_time": "2023-10-25T15:37:51.542433",
          "exception": false,
          "start_time": "2023-10-25T15:37:51.536027",
          "status": "completed"
        },
        "tags": [],
        "id": "3aba61be"
      },
      "source": [
        "### Classes"
      ]
    },
    {
      "cell_type": "code",
      "execution_count": null,
      "id": "6f70d448",
      "metadata": {
        "execution": {
          "iopub.execute_input": "2023-10-25T15:37:51.556567Z",
          "iopub.status.busy": "2023-10-25T15:37:51.556262Z",
          "iopub.status.idle": "2023-10-25T15:37:51.561959Z",
          "shell.execute_reply": "2023-10-25T15:37:51.561079Z"
        },
        "papermill": {
          "duration": 0.015257,
          "end_time": "2023-10-25T15:37:51.564162",
          "exception": false,
          "start_time": "2023-10-25T15:37:51.548905",
          "status": "completed"
        },
        "tags": [],
        "id": "6f70d448",
        "outputId": "adde47f1-78f1-4b62-d8d5-a0057f2a2791"
      },
      "outputs": [
        {
          "name": "stdout",
          "output_type": "stream",
          "text": [
            "[4, 6, 2, 1, 5, 0, 3]\n"
          ]
        }
      ],
      "source": [
        "# Original class dictionary\n",
        "classes = {4: ('nv', 'melanocytic nevi'),\n",
        "           6: ('mel', 'melanoma'),\n",
        "           2: ('bkl', 'benign keratosis-like lesions'),\n",
        "           1: ('bcc', 'basal cell carcinoma'),\n",
        "           5: ('vasc', 'pyogenic granulomas and hemorrhage'),\n",
        "           0: ('akiec', 'Actinic keratoses and intraepithelial carcinomae'),\n",
        "           3: ('df', 'dermatofibroma')}\n",
        "\n",
        "# Extract class labels and create a list\n",
        "class_labels = list(classes.keys())\n",
        "\n",
        "# Now, class_labels contains the list of class labels suitable for PyTorch\n",
        "print(class_labels)"
      ]
    },
    {
      "cell_type": "markdown",
      "id": "7f234616",
      "metadata": {
        "papermill": {
          "duration": 0.006356,
          "end_time": "2023-10-25T15:37:51.576982",
          "exception": false,
          "start_time": "2023-10-25T15:37:51.570626",
          "status": "completed"
        },
        "tags": [],
        "id": "7f234616"
      },
      "source": [
        "### Splitting train and test data"
      ]
    },
    {
      "cell_type": "code",
      "execution_count": null,
      "id": "b9e64356",
      "metadata": {
        "execution": {
          "iopub.execute_input": "2023-10-25T15:37:51.591354Z",
          "iopub.status.busy": "2023-10-25T15:37:51.591077Z",
          "iopub.status.idle": "2023-10-25T15:37:51.747082Z",
          "shell.execute_reply": "2023-10-25T15:37:51.746062Z"
        },
        "papermill": {
          "duration": 0.165914,
          "end_time": "2023-10-25T15:37:51.749622",
          "exception": false,
          "start_time": "2023-10-25T15:37:51.583708",
          "status": "completed"
        },
        "tags": [],
        "id": "b9e64356"
      },
      "outputs": [],
      "source": [
        "# Split the data into training and testing sets using sklearn\n",
        "data_train, data_test, label_train, label_test = train_test_split(data_columns, label_column, test_size=0.25, random_state=49)\n",
        "\n",
        "# Convert Pandas DataFrames to NumPy arrays and then to PyTorch tensors\n",
        "data_train_tensor = torch.tensor(data_train.values, dtype=torch.float32)\n",
        "label_train_tensor = torch.tensor(label_train.values, dtype=torch.long)\n",
        "data_test_tensor = torch.tensor(data_test.values, dtype=torch.float32)\n",
        "label_test_tensor = torch.tensor(label_test.values, dtype=torch.long)\n",
        "\n",
        "# Create PyTorch Dataset and DataLoader for training and testing\n",
        "train_dataset = TensorDataset(data_train_tensor, label_train_tensor)\n",
        "test_dataset = TensorDataset(data_test_tensor, label_test_tensor)\n",
        "\n",
        "# Define batch sizes for DataLoader\n",
        "batch_size = 64\n",
        "\n",
        "# Create DataLoader for training and testing sets\n",
        "train_loader = DataLoader(train_dataset, batch_size=batch_size, shuffle=True)\n",
        "test_loader = DataLoader(test_dataset, batch_size=batch_size, shuffle=False)"
      ]
    },
    {
      "cell_type": "code",
      "execution_count": null,
      "id": "1ecf6aa7",
      "metadata": {
        "execution": {
          "iopub.execute_input": "2023-10-25T15:37:51.764574Z",
          "iopub.status.busy": "2023-10-25T15:37:51.764046Z",
          "iopub.status.idle": "2023-10-25T15:37:51.768503Z",
          "shell.execute_reply": "2023-10-25T15:37:51.767725Z"
        },
        "papermill": {
          "duration": 0.014413,
          "end_time": "2023-10-25T15:37:51.770946",
          "exception": false,
          "start_time": "2023-10-25T15:37:51.756533",
          "status": "completed"
        },
        "tags": [],
        "id": "1ecf6aa7",
        "outputId": "436f69f6-e875-4221-df20-70577cd4143c"
      },
      "outputs": [
        {
          "name": "stdout",
          "output_type": "stream",
          "text": [
            "X_train shape: torch.Size([7511, 2352])\n",
            "X_test shape: torch.Size([2504, 2352])\n",
            "y_train shape: torch.Size([7511])\n",
            "y_test shape: torch.Size([2504])\n"
          ]
        }
      ],
      "source": [
        "print(f'X_train shape: {data_train_tensor.shape}\\nX_test shape: {data_test_tensor.shape}')\n",
        "print(f'y_train shape: {label_train_tensor.shape}\\ny_test shape: {label_test_tensor.shape}')"
      ]
    },
    {
      "cell_type": "code",
      "execution_count": null,
      "id": "66589282",
      "metadata": {
        "execution": {
          "iopub.execute_input": "2023-10-25T15:37:51.785517Z",
          "iopub.status.busy": "2023-10-25T15:37:51.784879Z",
          "iopub.status.idle": "2023-10-25T15:37:51.802714Z",
          "shell.execute_reply": "2023-10-25T15:37:51.801861Z"
        },
        "papermill": {
          "duration": 0.027108,
          "end_time": "2023-10-25T15:37:51.804715",
          "exception": false,
          "start_time": "2023-10-25T15:37:51.777607",
          "status": "completed"
        },
        "tags": [],
        "id": "66589282"
      },
      "outputs": [],
      "source": [
        "# Number of classes in your classification problem (replace with your actual number)\n",
        "num_classes = 7\n",
        "\n",
        "# Convert labels to one-hot encoded format for training and testing\n",
        "y_train_one_hot = one_hot(label_train_tensor, num_classes=num_classes)\n",
        "y_test_one_hot = one_hot(label_test_tensor, num_classes=num_classes)"
      ]
    },
    {
      "cell_type": "code",
      "execution_count": null,
      "id": "29ae11ce",
      "metadata": {
        "execution": {
          "iopub.execute_input": "2023-10-25T15:37:51.819371Z",
          "iopub.status.busy": "2023-10-25T15:37:51.819109Z",
          "iopub.status.idle": "2023-10-25T15:37:51.825774Z",
          "shell.execute_reply": "2023-10-25T15:37:51.824968Z"
        },
        "papermill": {
          "duration": 0.01596,
          "end_time": "2023-10-25T15:37:51.827680",
          "exception": false,
          "start_time": "2023-10-25T15:37:51.811720",
          "status": "completed"
        },
        "tags": [],
        "id": "29ae11ce"
      },
      "outputs": [],
      "source": [
        "# Define data augmentation transforms for training\n",
        "train_transforms = transforms.Compose([\n",
        "    transforms.RandomRotation(degrees=10),\n",
        "    transforms.RandomHorizontalFlip(),\n",
        "    transforms.RandomVerticalFlip(),\n",
        "    transforms.ColorJitter(brightness=0.1, contrast=0.1, saturation=0.1, hue=0.1),\n",
        "    transforms.RandomResizedCrop(28, scale=(0.9, 1.1)),\n",
        "    transforms.RandomAffine(degrees=0, translate=(0.1, 0.1)),\n",
        "    transforms.ToTensor(),\n",
        "    transforms.Normalize(mean=[0.485, 0.456, 0.406], std=[0.229, 0.224, 0.225])\n",
        "])\n",
        "\n",
        "# Create a DataLoader for training data with data augmentation\n",
        "augmented_train_loader = DataLoader(train_dataset, batch_size=batch_size, shuffle=True)\n",
        "\n",
        "# Create a DataLoader for testing data without data augmentation\n",
        "test_loader = DataLoader(test_dataset, batch_size=batch_size, shuffle=False)"
      ]
    },
    {
      "cell_type": "code",
      "execution_count": null,
      "id": "9f67565e",
      "metadata": {
        "execution": {
          "iopub.execute_input": "2023-10-25T15:37:51.841814Z",
          "iopub.status.busy": "2023-10-25T15:37:51.841533Z",
          "iopub.status.idle": "2023-10-25T15:37:51.850948Z",
          "shell.execute_reply": "2023-10-25T15:37:51.850120Z"
        },
        "papermill": {
          "duration": 0.018688,
          "end_time": "2023-10-25T15:37:51.852887",
          "exception": false,
          "start_time": "2023-10-25T15:37:51.834199",
          "status": "completed"
        },
        "tags": [],
        "id": "9f67565e"
      },
      "outputs": [],
      "source": [
        "# Define the PyTorch ANN model\n",
        "class ANNModel(nn.Module):\n",
        "    def __init__(self):\n",
        "        super(ANNModel, self).__init__()\n",
        "        self.flatten = nn.Flatten()\n",
        "        self.fc1 = nn.Linear(28 * 28 * 3, 256)\n",
        "        self.bn1 = nn.BatchNorm1d(256)\n",
        "        self.dropout1 = nn.Dropout(0.5)\n",
        "        self.fc2 = nn.Linear(256, 128)\n",
        "        self.bn2 = nn.BatchNorm1d(128)\n",
        "        self.dropout2 = nn.Dropout(0.5)\n",
        "        self.fc3 = nn.Linear(128, 64)\n",
        "        self.bn3 = nn.BatchNorm1d(64)\n",
        "        self.fc4 = nn.Linear(64, 32)\n",
        "        self.bn4 = nn.BatchNorm1d(32)\n",
        "        self.fc5 = nn.Linear(32, 7)\n",
        "\n",
        "    def forward(self, x):\n",
        "        x = self.flatten(x)\n",
        "        x = self.fc1(x)\n",
        "        x = self.bn1(x)\n",
        "        x = F.relu(x)\n",
        "        x = self.dropout1(x)\n",
        "        x = self.fc2(x)\n",
        "        x = self.bn2(x)\n",
        "        x = F.relu(x)\n",
        "        x = self.dropout2(x)\n",
        "        x = self.fc3(x)\n",
        "        x = self.bn3(x)\n",
        "        x = F.relu(x)\n",
        "        x = self.fc4(x)\n",
        "        x = self.bn4(x)\n",
        "        x = F.relu(x)\n",
        "        x = self.fc5(x)\n",
        "        return x"
      ]
    },
    {
      "cell_type": "code",
      "execution_count": null,
      "id": "978442a4",
      "metadata": {
        "execution": {
          "iopub.execute_input": "2023-10-25T15:37:51.867364Z",
          "iopub.status.busy": "2023-10-25T15:37:51.867097Z",
          "iopub.status.idle": "2023-10-25T15:38:44.177745Z",
          "shell.execute_reply": "2023-10-25T15:38:44.176448Z"
        },
        "papermill": {
          "duration": 52.3204,
          "end_time": "2023-10-25T15:38:44.179870",
          "exception": false,
          "start_time": "2023-10-25T15:37:51.859470",
          "status": "completed"
        },
        "tags": [],
        "id": "978442a4",
        "outputId": "672d93e8-c710-4b5a-b202-7ca40b4ebb76"
      },
      "outputs": [
        {
          "name": "stdout",
          "output_type": "stream",
          "text": [
            "Epoch [1/50] Train Accuracy: 57.81%, Validation Loss: 1.0054, Validation Accuracy: 67.13%\n",
            "Epoch [2/50] Train Accuracy: 68.50%, Validation Loss: 0.9332, Validation Accuracy: 67.29%\n",
            "Epoch [3/50] Train Accuracy: 69.13%, Validation Loss: 1.0244, Validation Accuracy: 66.49%\n",
            "Epoch [4/50] Train Accuracy: 70.03%, Validation Loss: 0.9335, Validation Accuracy: 66.77%\n",
            "Epoch [5/50] Train Accuracy: 71.18%, Validation Loss: 0.9740, Validation Accuracy: 67.49%\n",
            "Epoch [6/50] Train Accuracy: 71.04%, Validation Loss: 0.9225, Validation Accuracy: 66.89%\n",
            "Epoch [7/50] Train Accuracy: 71.24%, Validation Loss: 0.8657, Validation Accuracy: 67.89%\n",
            "Epoch [8/50] Train Accuracy: 71.73%, Validation Loss: 0.8587, Validation Accuracy: 69.69%\n",
            "Epoch [9/50] Train Accuracy: 71.97%, Validation Loss: 0.8358, Validation Accuracy: 69.65%\n",
            "Epoch [10/50] Train Accuracy: 72.65%, Validation Loss: 1.0536, Validation Accuracy: 62.78%\n",
            "Epoch [11/50] Train Accuracy: 72.31%, Validation Loss: 1.0203, Validation Accuracy: 67.09%\n",
            "Epoch 00011: reducing learning rate of group 0 to 5.0000e-04.\n",
            "Epoch [12/50] Train Accuracy: 73.36%, Validation Loss: 0.8482, Validation Accuracy: 69.33%\n",
            "Epoch [13/50] Train Accuracy: 73.09%, Validation Loss: 0.8267, Validation Accuracy: 70.65%\n",
            "Epoch [14/50] Train Accuracy: 73.53%, Validation Loss: 0.8464, Validation Accuracy: 69.09%\n",
            "Epoch [15/50] Train Accuracy: 73.96%, Validation Loss: 0.8026, Validation Accuracy: 70.25%\n",
            "Epoch [16/50] Train Accuracy: 74.98%, Validation Loss: 0.9391, Validation Accuracy: 69.77%\n",
            "Epoch 00016: reducing learning rate of group 0 to 2.5000e-04.\n",
            "Epoch [17/50] Train Accuracy: 75.05%, Validation Loss: 0.7716, Validation Accuracy: 71.81%\n",
            "Epoch [18/50] Train Accuracy: 75.14%, Validation Loss: 0.8230, Validation Accuracy: 71.69%\n",
            "Epoch [19/50] Train Accuracy: 75.13%, Validation Loss: 0.7752, Validation Accuracy: 72.48%\n",
            "Epoch [20/50] Train Accuracy: 75.06%, Validation Loss: 0.8591, Validation Accuracy: 68.77%\n",
            "Epoch [21/50] Train Accuracy: 75.33%, Validation Loss: 0.7731, Validation Accuracy: 72.12%\n",
            "Epoch [22/50] Train Accuracy: 76.08%, Validation Loss: 0.7691, Validation Accuracy: 72.20%\n",
            "Epoch 00022: reducing learning rate of group 0 to 1.2500e-04.\n",
            "Epoch [23/50] Train Accuracy: 76.42%, Validation Loss: 0.7543, Validation Accuracy: 72.72%\n",
            "Epoch [24/50] Train Accuracy: 76.31%, Validation Loss: 0.7493, Validation Accuracy: 73.36%\n",
            "Epoch [25/50] Train Accuracy: 76.90%, Validation Loss: 0.7440, Validation Accuracy: 73.00%\n",
            "Epoch [26/50] Train Accuracy: 76.38%, Validation Loss: 0.7570, Validation Accuracy: 72.32%\n",
            "Epoch [27/50] Train Accuracy: 77.19%, Validation Loss: 0.7588, Validation Accuracy: 72.76%\n",
            "Epoch 00027: reducing learning rate of group 0 to 6.2500e-05.\n",
            "Epoch [28/50] Train Accuracy: 77.17%, Validation Loss: 0.7512, Validation Accuracy: 72.88%\n",
            "Epoch [29/50] Train Accuracy: 77.45%, Validation Loss: 0.7534, Validation Accuracy: 72.96%\n",
            "Epoch [30/50] Train Accuracy: 76.53%, Validation Loss: 0.7556, Validation Accuracy: 72.80%\n",
            "Epoch 00030: reducing learning rate of group 0 to 3.1250e-05.\n",
            "Epoch [31/50] Train Accuracy: 77.57%, Validation Loss: 0.7483, Validation Accuracy: 73.56%\n",
            "Epoch [32/50] Train Accuracy: 76.95%, Validation Loss: 0.7497, Validation Accuracy: 72.76%\n",
            "Epoch [33/50] Train Accuracy: 77.35%, Validation Loss: 0.7466, Validation Accuracy: 73.24%\n",
            "Epoch [34/50] Train Accuracy: 77.02%, Validation Loss: 0.7456, Validation Accuracy: 73.28%\n",
            "Epoch 00034: reducing learning rate of group 0 to 1.5625e-05.\n",
            "Epoch [35/50] Train Accuracy: 77.15%, Validation Loss: 0.7435, Validation Accuracy: 73.16%\n",
            "Epoch [36/50] Train Accuracy: 77.42%, Validation Loss: 0.7456, Validation Accuracy: 73.64%\n",
            "Epoch [37/50] Train Accuracy: 77.81%, Validation Loss: 0.7449, Validation Accuracy: 73.16%\n",
            "Epoch [38/50] Train Accuracy: 77.81%, Validation Loss: 0.7466, Validation Accuracy: 73.00%\n",
            "Epoch [39/50] Train Accuracy: 77.30%, Validation Loss: 0.7447, Validation Accuracy: 72.88%\n",
            "Epoch 00039: reducing learning rate of group 0 to 1.0000e-05.\n",
            "Epoch [40/50] Train Accuracy: 77.62%, Validation Loss: 0.7463, Validation Accuracy: 72.84%\n",
            "Epoch [41/50] Train Accuracy: 77.82%, Validation Loss: 0.7467, Validation Accuracy: 73.32%\n",
            "Epoch [42/50] Train Accuracy: 77.35%, Validation Loss: 0.7456, Validation Accuracy: 73.64%\n",
            "Epoch [43/50] Train Accuracy: 77.59%, Validation Loss: 0.7436, Validation Accuracy: 73.36%\n",
            "Epoch [44/50] Train Accuracy: 77.70%, Validation Loss: 0.7455, Validation Accuracy: 73.04%\n",
            "Epoch [45/50] Train Accuracy: 77.34%, Validation Loss: 0.7448, Validation Accuracy: 72.88%\n",
            "Epoch [46/50] Train Accuracy: 77.97%, Validation Loss: 0.7456, Validation Accuracy: 73.04%\n",
            "Epoch [47/50] Train Accuracy: 77.35%, Validation Loss: 0.7465, Validation Accuracy: 73.36%\n",
            "Epoch [48/50] Train Accuracy: 77.38%, Validation Loss: 0.7485, Validation Accuracy: 73.72%\n",
            "Epoch [49/50] Train Accuracy: 77.71%, Validation Loss: 0.7449, Validation Accuracy: 73.20%\n",
            "Epoch [50/50] Train Accuracy: 77.81%, Validation Loss: 0.7462, Validation Accuracy: 73.00%\n"
          ]
        }
      ],
      "source": [
        "# Create an instance of the ANN model\n",
        "pytorch_model = ANNModel()\n",
        "\n",
        "\n",
        "train_accuracy_list = []\n",
        "validation_loss_list = []\n",
        "validation_accuracy_list = []\n",
        "criterion = nn.CrossEntropyLoss()\n",
        "\n",
        "# Training and Evaluation (organized into functions)\n",
        "def train_and_evaluate_model(model, train_loader, test_loader, num_epochs):\n",
        "    optimizer = optim.Adam(model.parameters(), lr=0.001)\n",
        "    scheduler = ReduceLROnPlateau(optimizer, mode='max', factor=0.5, patience=2, verbose=True, min_lr=0.00001)\n",
        "\n",
        "\n",
        "    for epoch in range(num_epochs):\n",
        "        model.train()\n",
        "        correct_train = 0\n",
        "        total_train = 0\n",
        "\n",
        "        for inputs, labels in train_loader:\n",
        "            optimizer.zero_grad()\n",
        "            outputs = model(inputs)\n",
        "            loss = criterion(outputs, labels)  # Use the global criterion here\n",
        "            loss.backward()\n",
        "            optimizer.step()\n",
        "\n",
        "            _, predicted_train = torch.max(outputs, 1)\n",
        "            total_train += labels.size(0)\n",
        "            correct_train += (predicted_train == labels).sum().item()\n",
        "\n",
        "        train_accuracy = 100 * correct_train / total_train\n",
        "        train_accuracy_list.append(train_accuracy)\n",
        "\n",
        "        model.eval()\n",
        "        validation_loss = 0.0\n",
        "        correct_validation = 0\n",
        "        total_validation = 0\n",
        "\n",
        "        with torch.no_grad():\n",
        "            for inputs, labels in test_loader:\n",
        "                outputs = model(inputs)\n",
        "                loss = criterion(outputs, labels)  # Use the global criterion here\n",
        "                validation_loss += loss.item()\n",
        "\n",
        "                _, predicted_validation = torch.max(outputs, 1)\n",
        "                total_validation += labels.size(0)\n",
        "                correct_validation += (predicted_validation == labels).sum().item()\n",
        "\n",
        "        validation_loss /= len(test_loader)\n",
        "        validation_accuracy = 100 * correct_validation / total_validation\n",
        "        validation_loss_list.append(validation_loss)\n",
        "        validation_accuracy_list.append(validation_accuracy)\n",
        "\n",
        "        print(f\"Epoch [{epoch + 1}/{num_epochs}] Train Accuracy: {train_accuracy:.2f}%, Validation Loss: {validation_loss:.4f}, Validation Accuracy: {validation_accuracy:.2f}%\")\n",
        "\n",
        "        scheduler.step(validation_accuracy)\n",
        "    # Call the function to train and evaluate the model with a specified number of epochs (e.g., 25)\n",
        "num_epochs = 50\n",
        "train_and_evaluate_model(pytorch_model, train_loader, test_loader, num_epochs)"
      ]
    },
    {
      "cell_type": "code",
      "execution_count": null,
      "id": "f4516e06",
      "metadata": {
        "execution": {
          "iopub.execute_input": "2023-10-25T15:38:44.202987Z",
          "iopub.status.busy": "2023-10-25T15:38:44.202653Z",
          "iopub.status.idle": "2023-10-25T15:38:44.988536Z",
          "shell.execute_reply": "2023-10-25T15:38:44.987559Z"
        },
        "papermill": {
          "duration": 0.799204,
          "end_time": "2023-10-25T15:38:44.990532",
          "exception": false,
          "start_time": "2023-10-25T15:38:44.191328",
          "status": "completed"
        },
        "tags": [],
        "id": "f4516e06",
        "outputId": "76ae2636-7c1b-4e88-afca-924b2819150b"
      },
      "outputs": [
        {
          "data": {
            "image/png": "[encoded data removed]",
            "text/plain": [
              "<Figure size 1200x400 with 3 Axes>"
            ]
          },
          "metadata": {},
          "output_type": "display_data"
        }
      ],
      "source": [
        "# Plot training and validation metrics\n",
        "\n",
        "plt.figure(figsize=(12, 4))\n",
        "plt.subplot(1, 3, 1)\n",
        "plt.plot(train_accuracy_list)\n",
        "plt.title('Training Accuracy')\n",
        "plt.xlabel('Epoch')\n",
        "plt.ylabel('Accuracy')\n",
        "\n",
        "plt.subplot(1, 3, 2)\n",
        "plt.plot(validation_loss_list)\n",
        "plt.title('Validation Loss')\n",
        "plt.xlabel('Epoch')\n",
        "plt.ylabel('Loss')\n",
        "\n",
        "plt.subplot(1, 3, 3)\n",
        "plt.plot(validation_accuracy_list)\n",
        "plt.title('Validation Accuracy')\n",
        "plt.xlabel('Epoch')\n",
        "plt.ylabel('Accuracy')\n",
        "\n",
        "plt.tight_layout()\n",
        "plt.show()"
      ]
    },
    {
      "cell_type": "code",
      "execution_count": null,
      "id": "fbb78c43",
      "metadata": {
        "execution": {
          "iopub.execute_input": "2023-10-25T15:38:45.015148Z",
          "iopub.status.busy": "2023-10-25T15:38:45.014554Z",
          "iopub.status.idle": "2023-10-25T15:38:45.611423Z",
          "shell.execute_reply": "2023-10-25T15:38:45.610352Z"
        },
        "papermill": {
          "duration": 0.611484,
          "end_time": "2023-10-25T15:38:45.613504",
          "exception": false,
          "start_time": "2023-10-25T15:38:45.002020",
          "status": "completed"
        },
        "tags": [],
        "id": "fbb78c43",
        "outputId": "7e6f778f-2c62-43a5-fe7a-f3fa1a590742"
      },
      "outputs": [
        {
          "name": "stdout",
          "output_type": "stream",
          "text": [
            "Train Loss: 0.5333431375733877\n",
            "Train Accuracy: 81.08108108108108 %\n",
            "--------------------\n",
            "Test Loss: 0.7462492704391479\n",
            "Test Accuracy: 73.00319488817891 %\n"
          ]
        }
      ],
      "source": [
        "# Define a function to calculate accuracy\n",
        "criterion = nn.CrossEntropyLoss()\n",
        "def calculate_accuracy(outputs, labels):\n",
        "    _, predicted = torch.max(outputs, 1)\n",
        "    total = labels.size(0)\n",
        "    correct = (predicted == labels).sum().item()\n",
        "    accuracy = 100 * correct / total\n",
        "    return accuracy\n",
        "\n",
        "# Switch the model to evaluation mode\n",
        "pytorch_model.eval()\n",
        "\n",
        "# Initialize variables to store accuracy and loss\n",
        "train_loss = 0.0\n",
        "train_correct = 0\n",
        "train_total = 0\n",
        "test_loss = 0.0\n",
        "test_correct = 0\n",
        "test_total = 0\n",
        "\n",
        "# Evaluate on training data\n",
        "with torch.no_grad():\n",
        "    for inputs, labels in train_loader:\n",
        "        outputs = pytorch_model(inputs)\n",
        "        loss = criterion(outputs, labels)\n",
        "        train_loss += loss.item()\n",
        "        train_correct += (torch.max(outputs, 1)[1] == labels).sum().item()\n",
        "        train_total += labels.size(0)\n",
        "\n",
        "train_accuracy = 100 * train_correct / train_total\n",
        "train_loss /= len(train_loader)\n",
        "\n",
        "# Evaluate on test data\n",
        "with torch.no_grad():\n",
        "    for inputs, labels in test_loader:\n",
        "        outputs = pytorch_model(inputs)\n",
        "        loss = criterion(outputs, labels)\n",
        "        test_loss += loss.item()\n",
        "        test_correct += (torch.max(outputs, 1)[1] == labels).sum().item()\n",
        "        test_total += labels.size(0)\n",
        "\n",
        "test_accuracy = 100 * test_correct / test_total\n",
        "test_loss /= len(test_loader)\n",
        "\n",
        "# Print evaluation results\n",
        "print(\"Train Loss:\", train_loss)\n",
        "print(\"Train Accuracy:\", train_accuracy, \"%\")\n",
        "print('-' * 20)\n",
        "print(\"Test Loss:\", test_loss)\n",
        "print(\"Test Accuracy:\", test_accuracy, \"%\")"
      ]
    },
    {
      "cell_type": "code",
      "execution_count": null,
      "id": "bebaec1a",
      "metadata": {
        "execution": {
          "iopub.execute_input": "2023-10-25T15:38:45.638181Z",
          "iopub.status.busy": "2023-10-25T15:38:45.637585Z",
          "iopub.status.idle": "2023-10-25T15:38:45.760716Z",
          "shell.execute_reply": "2023-10-25T15:38:45.759760Z"
        },
        "papermill": {
          "duration": 0.137624,
          "end_time": "2023-10-25T15:38:45.762881",
          "exception": false,
          "start_time": "2023-10-25T15:38:45.625257",
          "status": "completed"
        },
        "tags": [],
        "id": "bebaec1a",
        "outputId": "b39f8846-990f-4723-a3ce-a2544ebaac52"
      },
      "outputs": [
        {
          "name": "stdout",
          "output_type": "stream",
          "text": [
            "True Labels: [6 0 6 ... 4 2 4]\n",
            "Predicted Labels: [6 0 4 ... 4 2 4]\n"
          ]
        }
      ],
      "source": [
        "# Initialize empty lists to store true and predicted labels\n",
        "y_true = []\n",
        "y_pred = []\n",
        "\n",
        "# Switch the model to evaluation mode\n",
        "pytorch_model.eval()\n",
        "\n",
        "# Evaluate on test data\n",
        "with torch.no_grad():\n",
        "    for inputs, labels in test_loader:\n",
        "        outputs = pytorch_model(inputs)\n",
        "        _, predicted = torch.max(outputs, 1)\n",
        "        y_true.extend(labels.tolist())\n",
        "        y_pred.extend(predicted.tolist())\n",
        "\n",
        "# Convert the lists to numpy arrays\n",
        "y_true = np.array(y_true)\n",
        "y_pred = np.array(y_pred)\n",
        "\n",
        "# Print the results\n",
        "print(\"True Labels:\", y_true)\n",
        "print(\"Predicted Labels:\", y_pred)"
      ]
    },
    {
      "cell_type": "code",
      "execution_count": null,
      "id": "f9315ffa",
      "metadata": {
        "execution": {
          "iopub.execute_input": "2023-10-25T15:38:45.788403Z",
          "iopub.status.busy": "2023-10-25T15:38:45.787658Z",
          "iopub.status.idle": "2023-10-25T15:38:45.793521Z",
          "shell.execute_reply": "2023-10-25T15:38:45.792640Z"
        },
        "papermill": {
          "duration": 0.020442,
          "end_time": "2023-10-25T15:38:45.795774",
          "exception": false,
          "start_time": "2023-10-25T15:38:45.775332",
          "status": "completed"
        },
        "tags": [],
        "id": "f9315ffa",
        "outputId": "642dc9d9-6254-4cbe-a892-915b98073eac"
      },
      "outputs": [
        {
          "name": "stdout",
          "output_type": "stream",
          "text": [
            "[4, 6, 2, 1, 5, 0, 3]\n"
          ]
        }
      ],
      "source": [
        "# Define your classes dictionary\n",
        "classes = {\n",
        "    4: ('nv', 'melanocytic nevi'),\n",
        "    6: ('mel', 'melanoma'),\n",
        "    2: ('bkl', 'benign keratosis-like lesions'),\n",
        "    1: ('bcc', 'basal cell carcinoma'),\n",
        "    5: ('vasc', 'pyogenic granulomas and hemorrhage'),\n",
        "    0: ('akiec', 'Actinic keratoses and intraepithelial carcinomae'),\n",
        "    3: ('df', 'dermatofibroma')\n",
        "}\n",
        "\n",
        "# Extract class labels from the dictionary\n",
        "classes_labels = list(classes.keys())\n",
        "\n",
        "# Print the class labels\n",
        "print(classes_labels)"
      ]
    },
    {
      "cell_type": "code",
      "execution_count": null,
      "id": "5c540dc8",
      "metadata": {
        "execution": {
          "iopub.execute_input": "2023-10-25T15:38:45.820048Z",
          "iopub.status.busy": "2023-10-25T15:38:45.819581Z",
          "iopub.status.idle": "2023-10-25T15:38:46.237676Z",
          "shell.execute_reply": "2023-10-25T15:38:46.236639Z"
        },
        "papermill": {
          "duration": 0.43258,
          "end_time": "2023-10-25T15:38:46.239830",
          "exception": false,
          "start_time": "2023-10-25T15:38:45.807250",
          "status": "completed"
        },
        "tags": [],
        "id": "5c540dc8",
        "outputId": "c5a2a956-661b-427d-a01e-32ffdf0fe27f"
      },
      "outputs": [
        {
          "data": {
            "image/png": "[encoded data removed]",
            "text/plain": [
              "<Figure size 1000x1000 with 1 Axes>"
            ]
          },
          "metadata": {},
          "output_type": "display_data"
        }
      ],
      "source": [
        "# Function to plot the confusion matrix\n",
        "def plot_confusion_matrix(y_true, y_pred, classes_labels):\n",
        "    # Compute confusion matrix\n",
        "    cm = confusion_matrix(y_true, y_pred, labels=classes_labels)\n",
        "\n",
        "    # Plot the confusion matrix\n",
        "    plt.figure(figsize=(10, 10))\n",
        "    sns.set(style=\"whitegrid\")\n",
        "    ax = sns.heatmap(cm, annot=True, fmt=\"d\", cmap=\"Blues\", cbar=False)\n",
        "    ax.set_xlabel('Predicted Labels')\n",
        "    ax.set_ylabel('True Labels')\n",
        "    ax.set_xticklabels(classes_labels, rotation=45)\n",
        "    ax.set_yticklabels(classes_labels, rotation=0)\n",
        "    plt.title('Confusion Matrix')\n",
        "    plt.show()\n",
        "\n",
        "# Assuming you have already computed y_true and y_pred\n",
        "plot_confusion_matrix(y_true, y_pred, classes_labels)"
      ]
    }
  ],
  "metadata": {
    "kernelspec": {
      "display_name": "Python 3",
      "language": "python",
      "name": "python3"
    },
    "language_info": {
      "codemirror_mode": {
        "name": "ipython",
        "version": 3
      },
      "file_extension": ".py",
      "mimetype": "text/x-python",
      "name": "python",
      "nbconvert_exporter": "python",
      "pygments_lexer": "ipython3",
      "version": "3.10.12"
    },
    "papermill": {
      "default_parameters": {},
      "duration": 71.301025,
      "end_time": "2023-10-25T15:38:47.774103",
      "environment_variables": {},
      "exception": null,
      "input_path": "__notebook__.ipynb",
      "output_path": "__notebook__.ipynb",
      "parameters": {},
      "start_time": "2023-10-25T15:37:36.473078",
      "version": "2.4.0"
    },
    "colab": {
      "provenance": []
    }
  },
  "nbformat": 4,
  "nbformat_minor": 5
}